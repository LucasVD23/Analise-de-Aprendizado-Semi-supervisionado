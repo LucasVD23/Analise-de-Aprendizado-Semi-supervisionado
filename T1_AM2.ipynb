{
  "nbformat": 4,
  "nbformat_minor": 0,
  "metadata": {
    "colab": {
      "name": "T1_AM2.ipynb",
      "provenance": [],
      "collapsed_sections": [],
      "include_colab_link": true
    },
    "kernelspec": {
      "name": "python3",
      "display_name": "Python 3"
    },
    "language_info": {
      "name": "python"
    }
  },
  "cells": [
    {
      "cell_type": "markdown",
      "metadata": {
        "id": "view-in-github",
        "colab_type": "text"
      },
      "source": [
        "<a href=\"https://colab.research.google.com/github/LucasVD23/Analise-de-Aprendizado-Semi-supervisionado/blob/main/T1_AM2.ipynb\" target=\"_parent\"><img src=\"https://colab.research.google.com/assets/colab-badge.svg\" alt=\"Open In Colab\"/></a>"
      ]
    },
    {
      "cell_type": "markdown",
      "source": [
        "**Trabalho 1 de AM2**\n",
        "\n",
        "*Integrantes:*\n",
        "\n",
        "Lucas Vinícius Domingues 769699\n",
        "\n",
        "Rafael Yoshio Yamawaki Murata 769681\n",
        "\n",
        "Victor Luís Aguilar Antunes 769734\n",
        "\n",
        "**Links para os Datasets utilizados:**\n",
        "1. https://www.openml.org/d/1037\n",
        "2. https://www.openml.org/d/1480\n",
        "3. https://www.openml.org/d/481\n",
        "4. https://www.openml.org/d/451\n",
        "5. https://archive.ics.uci.edu/ml/datasets/Qualitative_Bankruptcy"
      ],
      "metadata": {
        "id": "d0ZomgWnj7bV"
      }
    },
    {
      "cell_type": "markdown",
      "source": [
        "# **Importando dados**"
      ],
      "metadata": {
        "id": "bOVwBN2JjqX2"
      }
    },
    {
      "cell_type": "code",
      "execution_count": null,
      "metadata": {
        "id": "y4dwo-gF8S9C"
      },
      "outputs": [],
      "source": [
        "import numpy as np\n",
        "import pandas as pd\n",
        "import matplotlib.pyplot as plt\n",
        "import seaborn as sns\n",
        "from sklearn.preprocessing import LabelEncoder, MinMaxScaler\n",
        "import random\n",
        "from sklearn.semi_supervised import LabelPropagation, LabelSpreading, SelfTrainingClassifier\n",
        "from sklearn.svm import SVC\n",
        "from sklearn.metrics import accuracy_score\n"
      ]
    },
    {
      "cell_type": "code",
      "source": [
        "quant_bank = pd.read_csv(\"/content/Qualitative_Bankruptcy.data.txt\")\n",
        "ada_prior =  pd.read_csv(\"/content/ada_prior.csv\")\n",
        "biomed =  pd.read_csv(\"/content/biomed.csv\")\n",
        "ilpd = pd.read_csv(\"/content/ilpd.csv\")\n",
        "irish = pd.read_csv(\"/content/irish.csv\")"
      ],
      "metadata": {
        "id": "gIBuRt0t_icP"
      },
      "execution_count": null,
      "outputs": []
    },
    {
      "cell_type": "code",
      "source": [
        "\"\"\"\n",
        "Os datasets biomed e irish possuem alguns valores não inseridos codificados como \"?\" ou \"NaN\" que não seriam eleminados com dropna()\n",
        "Portanto, é necessário retirar esses atributos, transformar em float as colunas que eram para serem numéricas e contínuas,\n",
        "mas estavam como strings devido aos valores \"?\" ou \"NaN\" inseridos com strings\n",
        "\"\"\"\n",
        "for i in biomed.columns:\n",
        "  biomed[i] = (biomed[biomed[i] != \"?\"])[i]\n",
        "  biomed[i] = (biomed[biomed[i] != \"NaN\"])[i]\n",
        "\n",
        "for i in irish.columns:\n",
        "  irish[i] = (irish[irish[i] != \"?\"])[i]\n",
        "  irish[i] = (irish[irish[i] != \"NaN\"])[i]\n",
        "\n",
        "biomed[\"m2\"] = biomed[\"m2\"].astype(float)\n",
        "biomed[\"m4\"] = biomed[\"m4\"].astype(float)\n",
        "irish[\"Prestige_score\"] = irish[\"Prestige_score\"].astype(float)\n"
      ],
      "metadata": {
        "id": "fVOobQCX0xUh"
      },
      "execution_count": null,
      "outputs": []
    },
    {
      "cell_type": "code",
      "source": [
        "\n",
        "\"\"\"\n",
        "A maior parte dos datasets possuia os valores de classes agrupados em uma parte do arquivo\n",
        "(classe 0 na primeira metadde e classe 1 na segunda, por exemplo. Portanto, é necessário \n",
        "realizar um shuffle nos dados para que a distribuição das classes fique aleatória no arquivo.\n",
        "Isso é feito retirando um sample aleatório do tamanho do dataset em cada dataset)\n",
        "\"\"\"\n",
        "quant_bank = quant_bank.sample(frac=1).reset_index(drop=True).dropna()\n",
        "ada_prior = ada_prior.sample(frac=1).reset_index(drop=True).dropna()\n",
        "biomed = biomed.sample(frac=1).reset_index(drop=True).dropna()\n",
        "ilpd = ilpd.sample(frac=1).reset_index(drop=True).dropna()\n",
        "irish = irish.sample(frac=1).reset_index(drop=True).dropna()\n",
        "\n",
        "ada_prior = ada_prior.drop(columns = ['education'] ) #retirando atributo redundate de ada_prior, já existe um atributo representando a mesma coisa(\"educationNum\")\n"
      ],
      "metadata": {
        "id": "Y1q6dUdA_IfR"
      },
      "execution_count": null,
      "outputs": []
    },
    {
      "cell_type": "code",
      "source": [
        "#reordenando dataset irish para a classe ficar na última coluna\n",
        "irish = irish[['Sex', 'DVRT', 'Educational_level', 'Prestige_score', 'Type_school', 'Leaving_Certificate']] "
      ],
      "metadata": {
        "id": "Gi0ToiFS8BRB"
      },
      "execution_count": null,
      "outputs": []
    },
    {
      "cell_type": "code",
      "source": [
        "quant_bank.columns,ada_prior.columns,biomed.columns,ilpd.columns,irish.columns #mostrando as colunas de cada dataset"
      ],
      "metadata": {
        "colab": {
          "base_uri": "https://localhost:8080/"
        },
        "id": "zYQ5mN0vTIva",
        "outputId": "04415fc8-9234-4a3b-9bfa-ddb2cc71be89"
      },
      "execution_count": null,
      "outputs": [
        {
          "output_type": "execute_result",
          "data": {
            "text/plain": [
              "(Index(['P', 'P.1', 'A', 'A.1', 'A.2', 'P.2', 'NB'], dtype='object'),\n",
              " Index(['age', 'workclass', 'fnlwgt', 'educationNum', 'maritalStatus',\n",
              "        'occupation', 'relationship', 'race', 'sex', 'capitalGain',\n",
              "        'capitalLoss', 'hoursPerWeek', 'nativeCountry', 'label'],\n",
              "       dtype='object'),\n",
              " Index(['Observation_number', 'Hospital_identification_number_for_blood_sample',\n",
              "        'Age_of_patient', 'Date_that_blood_sample_was_taken', 'ml', 'm2', 'm3',\n",
              "        'm4', 'class'],\n",
              "       dtype='object'),\n",
              " Index(['V1', 'V2', 'V3', 'V4', 'V5', 'V6', 'V7', 'V8', 'V9', 'V10', 'Class'], dtype='object'),\n",
              " Index(['Sex', 'DVRT', 'Educational_level', 'Prestige_score', 'Type_school',\n",
              "        'Leaving_Certificate'],\n",
              "       dtype='object'))"
            ]
          },
          "metadata": {},
          "execution_count": 37
        }
      ]
    },
    {
      "cell_type": "code",
      "source": [
        "classes = {'quant_bank':'NB','ada_prior':'label','biomed':'class','ilpd':'Class','irish':'Leaving_Certificate'}  #dicionário marcando as classes dos datasets"
      ],
      "metadata": {
        "id": "Y_ZPu6FAczqM"
      },
      "execution_count": null,
      "outputs": []
    },
    {
      "cell_type": "code",
      "source": [
        "datasets = {'quant_bank':quant_bank,'ada_prior': ada_prior,'biomed':biomed, 'ilpd': ilpd, 'irish': irish} #dicionário com todos os datasets"
      ],
      "metadata": {
        "id": "B5G7hOvJABK2"
      },
      "execution_count": null,
      "outputs": []
    },
    {
      "cell_type": "markdown",
      "source": [
        "# **EDA**"
      ],
      "metadata": {
        "id": "YIZyvoXGaNIT"
      }
    },
    {
      "cell_type": "markdown",
      "source": [
        "### **Regras de decisão a partir de dados qualitativos de falência usando algoritmos genéticos**"
      ],
      "metadata": {
        "id": "TvdJvDqZeEsg"
      }
    },
    {
      "cell_type": "markdown",
      "source": [
        "1. Risco Industrial: {P,A,N}\n",
        "2. Risco de Gestão: {P,A,N}\n",
        "3. Flexibilidade Financeira: {P,A,N}\n",
        "4. Credibilidade: {P,A,N}\n",
        "5. Competitividade: {P,A,N}\n",
        "6. Risco Operacional: {P,A,N}\n",
        "7. Classe: {B,NB}\n",
        "\n",
        "(P = Positivo, A = Médio, N = Negativo, B = Falência, NB = Não-Falência)"
      ],
      "metadata": {
        "id": "itHPztI9hUSr"
      }
    },
    {
      "cell_type": "code",
      "source": [
        "quant_bank.head(10)"
      ],
      "metadata": {
        "colab": {
          "base_uri": "https://localhost:8080/"
        },
        "id": "YwWYFlBiaWBA",
        "outputId": "490b890c-906a-440f-ebf8-20d69f95be9b"
      },
      "execution_count": null,
      "outputs": [
        {
          "output_type": "execute_result",
          "data": {
            "text/plain": [
              "   P P.1  A A.1 A.2 P.2  NB\n",
              "0  P   A  P   N   P   N  NB\n",
              "1  A   N  N   N   N   A   B\n",
              "2  A   A  A   A   P   A  NB\n",
              "3  P   N  N   N   A   A   B\n",
              "4  P   N  N   N   N   N   B\n",
              "5  P   P  A   P   P   N  NB\n",
              "6  P   N  N   N   N   P   B\n",
              "7  N   N  N   N   N   N   B\n",
              "8  P   N  P   P   A   N  NB\n",
              "9  P   P  A   P   A   P  NB"
            ],
            "text/html": [
              "\n",
              "  <div id=\"df-ee747b13-41fd-441e-858f-0cadc953d0a3\">\n",
              "    <div class=\"colab-df-container\">\n",
              "      <div>\n",
              "<style scoped>\n",
              "    .dataframe tbody tr th:only-of-type {\n",
              "        vertical-align: middle;\n",
              "    }\n",
              "\n",
              "    .dataframe tbody tr th {\n",
              "        vertical-align: top;\n",
              "    }\n",
              "\n",
              "    .dataframe thead th {\n",
              "        text-align: right;\n",
              "    }\n",
              "</style>\n",
              "<table border=\"1\" class=\"dataframe\">\n",
              "  <thead>\n",
              "    <tr style=\"text-align: right;\">\n",
              "      <th></th>\n",
              "      <th>P</th>\n",
              "      <th>P.1</th>\n",
              "      <th>A</th>\n",
              "      <th>A.1</th>\n",
              "      <th>A.2</th>\n",
              "      <th>P.2</th>\n",
              "      <th>NB</th>\n",
              "    </tr>\n",
              "  </thead>\n",
              "  <tbody>\n",
              "    <tr>\n",
              "      <th>0</th>\n",
              "      <td>P</td>\n",
              "      <td>A</td>\n",
              "      <td>P</td>\n",
              "      <td>N</td>\n",
              "      <td>P</td>\n",
              "      <td>N</td>\n",
              "      <td>NB</td>\n",
              "    </tr>\n",
              "    <tr>\n",
              "      <th>1</th>\n",
              "      <td>A</td>\n",
              "      <td>N</td>\n",
              "      <td>N</td>\n",
              "      <td>N</td>\n",
              "      <td>N</td>\n",
              "      <td>A</td>\n",
              "      <td>B</td>\n",
              "    </tr>\n",
              "    <tr>\n",
              "      <th>2</th>\n",
              "      <td>A</td>\n",
              "      <td>A</td>\n",
              "      <td>A</td>\n",
              "      <td>A</td>\n",
              "      <td>P</td>\n",
              "      <td>A</td>\n",
              "      <td>NB</td>\n",
              "    </tr>\n",
              "    <tr>\n",
              "      <th>3</th>\n",
              "      <td>P</td>\n",
              "      <td>N</td>\n",
              "      <td>N</td>\n",
              "      <td>N</td>\n",
              "      <td>A</td>\n",
              "      <td>A</td>\n",
              "      <td>B</td>\n",
              "    </tr>\n",
              "    <tr>\n",
              "      <th>4</th>\n",
              "      <td>P</td>\n",
              "      <td>N</td>\n",
              "      <td>N</td>\n",
              "      <td>N</td>\n",
              "      <td>N</td>\n",
              "      <td>N</td>\n",
              "      <td>B</td>\n",
              "    </tr>\n",
              "    <tr>\n",
              "      <th>5</th>\n",
              "      <td>P</td>\n",
              "      <td>P</td>\n",
              "      <td>A</td>\n",
              "      <td>P</td>\n",
              "      <td>P</td>\n",
              "      <td>N</td>\n",
              "      <td>NB</td>\n",
              "    </tr>\n",
              "    <tr>\n",
              "      <th>6</th>\n",
              "      <td>P</td>\n",
              "      <td>N</td>\n",
              "      <td>N</td>\n",
              "      <td>N</td>\n",
              "      <td>N</td>\n",
              "      <td>P</td>\n",
              "      <td>B</td>\n",
              "    </tr>\n",
              "    <tr>\n",
              "      <th>7</th>\n",
              "      <td>N</td>\n",
              "      <td>N</td>\n",
              "      <td>N</td>\n",
              "      <td>N</td>\n",
              "      <td>N</td>\n",
              "      <td>N</td>\n",
              "      <td>B</td>\n",
              "    </tr>\n",
              "    <tr>\n",
              "      <th>8</th>\n",
              "      <td>P</td>\n",
              "      <td>N</td>\n",
              "      <td>P</td>\n",
              "      <td>P</td>\n",
              "      <td>A</td>\n",
              "      <td>N</td>\n",
              "      <td>NB</td>\n",
              "    </tr>\n",
              "    <tr>\n",
              "      <th>9</th>\n",
              "      <td>P</td>\n",
              "      <td>P</td>\n",
              "      <td>A</td>\n",
              "      <td>P</td>\n",
              "      <td>A</td>\n",
              "      <td>P</td>\n",
              "      <td>NB</td>\n",
              "    </tr>\n",
              "  </tbody>\n",
              "</table>\n",
              "</div>\n",
              "      <button class=\"colab-df-convert\" onclick=\"convertToInteractive('df-ee747b13-41fd-441e-858f-0cadc953d0a3')\"\n",
              "              title=\"Convert this dataframe to an interactive table.\"\n",
              "              style=\"display:none;\">\n",
              "        \n",
              "  <svg xmlns=\"http://www.w3.org/2000/svg\" height=\"24px\"viewBox=\"0 0 24 24\"\n",
              "       width=\"24px\">\n",
              "    <path d=\"M0 0h24v24H0V0z\" fill=\"none\"/>\n",
              "    <path d=\"M18.56 5.44l.94 2.06.94-2.06 2.06-.94-2.06-.94-.94-2.06-.94 2.06-2.06.94zm-11 1L8.5 8.5l.94-2.06 2.06-.94-2.06-.94L8.5 2.5l-.94 2.06-2.06.94zm10 10l.94 2.06.94-2.06 2.06-.94-2.06-.94-.94-2.06-.94 2.06-2.06.94z\"/><path d=\"M17.41 7.96l-1.37-1.37c-.4-.4-.92-.59-1.43-.59-.52 0-1.04.2-1.43.59L10.3 9.45l-7.72 7.72c-.78.78-.78 2.05 0 2.83L4 21.41c.39.39.9.59 1.41.59.51 0 1.02-.2 1.41-.59l7.78-7.78 2.81-2.81c.8-.78.8-2.07 0-2.86zM5.41 20L4 18.59l7.72-7.72 1.47 1.35L5.41 20z\"/>\n",
              "  </svg>\n",
              "      </button>\n",
              "      \n",
              "  <style>\n",
              "    .colab-df-container {\n",
              "      display:flex;\n",
              "      flex-wrap:wrap;\n",
              "      gap: 12px;\n",
              "    }\n",
              "\n",
              "    .colab-df-convert {\n",
              "      background-color: #E8F0FE;\n",
              "      border: none;\n",
              "      border-radius: 50%;\n",
              "      cursor: pointer;\n",
              "      display: none;\n",
              "      fill: #1967D2;\n",
              "      height: 32px;\n",
              "      padding: 0 0 0 0;\n",
              "      width: 32px;\n",
              "    }\n",
              "\n",
              "    .colab-df-convert:hover {\n",
              "      background-color: #E2EBFA;\n",
              "      box-shadow: 0px 1px 2px rgba(60, 64, 67, 0.3), 0px 1px 3px 1px rgba(60, 64, 67, 0.15);\n",
              "      fill: #174EA6;\n",
              "    }\n",
              "\n",
              "    [theme=dark] .colab-df-convert {\n",
              "      background-color: #3B4455;\n",
              "      fill: #D2E3FC;\n",
              "    }\n",
              "\n",
              "    [theme=dark] .colab-df-convert:hover {\n",
              "      background-color: #434B5C;\n",
              "      box-shadow: 0px 1px 3px 1px rgba(0, 0, 0, 0.15);\n",
              "      filter: drop-shadow(0px 1px 2px rgba(0, 0, 0, 0.3));\n",
              "      fill: #FFFFFF;\n",
              "    }\n",
              "  </style>\n",
              "\n",
              "      <script>\n",
              "        const buttonEl =\n",
              "          document.querySelector('#df-ee747b13-41fd-441e-858f-0cadc953d0a3 button.colab-df-convert');\n",
              "        buttonEl.style.display =\n",
              "          google.colab.kernel.accessAllowed ? 'block' : 'none';\n",
              "\n",
              "        async function convertToInteractive(key) {\n",
              "          const element = document.querySelector('#df-ee747b13-41fd-441e-858f-0cadc953d0a3');\n",
              "          const dataTable =\n",
              "            await google.colab.kernel.invokeFunction('convertToInteractive',\n",
              "                                                     [key], {});\n",
              "          if (!dataTable) return;\n",
              "\n",
              "          const docLinkHtml = 'Like what you see? Visit the ' +\n",
              "            '<a target=\"_blank\" href=https://colab.research.google.com/notebooks/data_table.ipynb>data table notebook</a>'\n",
              "            + ' to learn more about interactive tables.';\n",
              "          element.innerHTML = '';\n",
              "          dataTable['output_type'] = 'display_data';\n",
              "          await google.colab.output.renderOutput(dataTable, element);\n",
              "          const docLink = document.createElement('div');\n",
              "          docLink.innerHTML = docLinkHtml;\n",
              "          element.appendChild(docLink);\n",
              "        }\n",
              "      </script>\n",
              "    </div>\n",
              "  </div>\n",
              "  "
            ]
          },
          "metadata": {},
          "execution_count": 40
        }
      ]
    },
    {
      "cell_type": "code",
      "source": [
        "quant_bank_attr = ['P', 'P.1', 'A',\t'A.1', 'A.2',\t'P.2',\t'NB']\n",
        "\n",
        "for atributo in quant_bank_attr:\n",
        "  data = quant_bank[atributo].unique()\n",
        "  plt.figure(figsize=(4,4))\n",
        "  quant_bank[atributo].value_counts().plot.pie(labels = data, autopct='%1.0f%%')\n",
        "  #plt.legend(loc=\"best\")\n",
        "  plt.show()"
      ],
      "metadata": {
        "id": "mHKYiWbEeDGw",
        "colab": {
          "base_uri": "https://localhost:8080/"
        },
        "outputId": "100f7964-6850-4f80-f7ad-ee517d7db54c"
      },
      "execution_count": null,
      "outputs": [
        {
          "output_type": "display_data",
          "data": {
            "text/plain": [
              "<Figure size 288x288 with 1 Axes>"
            ],
            "image/png": "[encoded data removed]"
          },
          "metadata": {}
        },
        {
          "output_type": "display_data",
          "data": {
            "text/plain": [
              "<Figure size 288x288 with 1 Axes>"
            ],
            "image/png": "[encoded data removed]"
          },
          "metadata": {}
        },
        {
          "output_type": "display_data",
          "data": {
            "text/plain": [
              "<Figure size 288x288 with 1 Axes>"
            ],
            "image/png": "[encoded data removed]"
          },
          "metadata": {}
        },
        {
          "output_type": "display_data",
          "data": {
            "text/plain": [
              "<Figure size 288x288 with 1 Axes>"
            ],
            "image/png": "[encoded data removed]"
          },
          "metadata": {}
        },
        {
          "output_type": "display_data",
          "data": {
            "text/plain": [
              "<Figure size 288x288 with 1 Axes>"
            ],
            "image/png": "[encoded data removed]"
          },
          "metadata": {}
        },
        {
          "output_type": "display_data",
          "data": {
            "text/plain": [
              "<Figure size 288x288 with 1 Axes>"
            ],
            "image/png": "[encoded data removed]"
          },
          "metadata": {}
        },
        {
          "output_type": "display_data",
          "data": {
            "text/plain": [
              "<Figure size 288x288 with 1 Axes>"
            ],
            "image/png": "[encoded data removed]"
          },
          "metadata": {}
        }
      ]
    },
    {
      "cell_type": "markdown",
      "source": [
        "### **Descobrir pessoas de alta renda a partir de dados do censo**"
      ],
      "metadata": {
        "id": "RD0sHM34e3RF"
      }
    },
    {
      "cell_type": "markdown",
      "source": [
        "1. Idade da instância (numérico)\n",
        "2. Classe de trabalho da instância (nominal)\n",
        "3. Peso de amostragem da instância (numérico)\n",
        "4. Nível de educação da instância (nominal)\n",
        "5. nível educacional da instância (versão numérica)\n",
        "6. Estado civil da instância (nominal)\n",
        "7. Ocupação da instância (nominal)\n",
        "8. Tipo de relacionamento da instância (nominal)\n",
        "9. Raça da instância (nominal)\n",
        "10. Sexo da instância (nominal)\n",
        "11. Ganho de capital da instância (numérico)\n",
        "12. Perda de capital da instância (numérica)\n",
        "13. Número de horas de trabalho da instância por semana (numérico)\n",
        "14. País de origem da instância (numérico)\n",
        "15. Atributo de classe do rótulo (1: a instância ganha mais de 50 mil por ano; caso contrário -1)"
      ],
      "metadata": {
        "id": "tJm6nHr1hOmH"
      }
    },
    {
      "cell_type": "code",
      "source": [
        "ada_prior.head(10)\n"
      ],
      "metadata": {
        "colab": {
          "base_uri": "https://localhost:8080/"
        },
        "id": "oaFwgSoscgZi",
        "outputId": "b1166084-915d-4a87-a996-c3886e6f9732"
      },
      "execution_count": null,
      "outputs": [
        {
          "output_type": "execute_result",
          "data": {
            "text/plain": [
              "   age     workclass  fnlwgt  educationNum       maritalStatus  \\\n",
              "0   34   Federal-gov  400943            13       Never-married   \n",
              "1   53       Private  289620            15  Married-civ-spouse   \n",
              "2   18       Private  238401            10       Never-married   \n",
              "3   30       Private  137076             9  Married-civ-spouse   \n",
              "4   28  Self-emp-inc  219705            13  Married-civ-spouse   \n",
              "5   43       Private  132130            11  Married-civ-spouse   \n",
              "6   18       Private  338632             7       Never-married   \n",
              "7   29       Private  194197            13       Never-married   \n",
              "8   48     Local-gov  142719            14  Married-civ-spouse   \n",
              "9   37       Private  187748            10  Married-civ-spouse   \n",
              "\n",
              "         occupation   relationship   race     sex  capitalGain  capitalLoss  \\\n",
              "0   Exec-managerial  Not-in-family  White    Male            0            0   \n",
              "1   Exec-managerial        Husband  White    Male            0            0   \n",
              "2             Sales      Own-child  White  Female            0            0   \n",
              "3  Transport-moving        Husband  White    Male            0            0   \n",
              "4   Exec-managerial        Husband  White    Male         5013            0   \n",
              "5   Farming-fishing        Husband  White    Male            0            0   \n",
              "6     Other-service      Own-child  White    Male            0            0   \n",
              "7   Exec-managerial      Own-child  White    Male            0            0   \n",
              "8    Prof-specialty        Husband  White    Male            0            0   \n",
              "9      Craft-repair        Husband  White    Male            0            0   \n",
              "\n",
              "   hoursPerWeek  nativeCountry  label  \n",
              "0            44  United-States     -1  \n",
              "1            45              ?      1  \n",
              "2            25  United-States     -1  \n",
              "3            40  United-States      1  \n",
              "4            55  United-States     -1  \n",
              "5            40  United-States      1  \n",
              "6            16  United-States     -1  \n",
              "7            40  United-States     -1  \n",
              "8            40  United-States      1  \n",
              "9            40  United-States     -1  "
            ],
            "text/html": [
              "\n",
              "  <div id=\"df-4f4223ad-70a8-44e5-94e5-b58cf84e1b7d\">\n",
              "    <div class=\"colab-df-container\">\n",
              "      <div>\n",
              "<style scoped>\n",
              "    .dataframe tbody tr th:only-of-type {\n",
              "        vertical-align: middle;\n",
              "    }\n",
              "\n",
              "    .dataframe tbody tr th {\n",
              "        vertical-align: top;\n",
              "    }\n",
              "\n",
              "    .dataframe thead th {\n",
              "        text-align: right;\n",
              "    }\n",
              "</style>\n",
              "<table border=\"1\" class=\"dataframe\">\n",
              "  <thead>\n",
              "    <tr style=\"text-align: right;\">\n",
              "      <th></th>\n",
              "      <th>age</th>\n",
              "      <th>workclass</th>\n",
              "      <th>fnlwgt</th>\n",
              "      <th>educationNum</th>\n",
              "      <th>maritalStatus</th>\n",
              "      <th>occupation</th>\n",
              "      <th>relationship</th>\n",
              "      <th>race</th>\n",
              "      <th>sex</th>\n",
              "      <th>capitalGain</th>\n",
              "      <th>capitalLoss</th>\n",
              "      <th>hoursPerWeek</th>\n",
              "      <th>nativeCountry</th>\n",
              "      <th>label</th>\n",
              "    </tr>\n",
              "  </thead>\n",
              "  <tbody>\n",
              "    <tr>\n",
              "      <th>0</th>\n",
              "      <td>34</td>\n",
              "      <td>Federal-gov</td>\n",
              "      <td>400943</td>\n",
              "      <td>13</td>\n",
              "      <td>Never-married</td>\n",
              "      <td>Exec-managerial</td>\n",
              "      <td>Not-in-family</td>\n",
              "      <td>White</td>\n",
              "      <td>Male</td>\n",
              "      <td>0</td>\n",
              "      <td>0</td>\n",
              "      <td>44</td>\n",
              "      <td>United-States</td>\n",
              "      <td>-1</td>\n",
              "    </tr>\n",
              "    <tr>\n",
              "      <th>1</th>\n",
              "      <td>53</td>\n",
              "      <td>Private</td>\n",
              "      <td>289620</td>\n",
              "      <td>15</td>\n",
              "      <td>Married-civ-spouse</td>\n",
              "      <td>Exec-managerial</td>\n",
              "      <td>Husband</td>\n",
              "      <td>White</td>\n",
              "      <td>Male</td>\n",
              "      <td>0</td>\n",
              "      <td>0</td>\n",
              "      <td>45</td>\n",
              "      <td>?</td>\n",
              "      <td>1</td>\n",
              "    </tr>\n",
              "    <tr>\n",
              "      <th>2</th>\n",
              "      <td>18</td>\n",
              "      <td>Private</td>\n",
              "      <td>238401</td>\n",
              "      <td>10</td>\n",
              "      <td>Never-married</td>\n",
              "      <td>Sales</td>\n",
              "      <td>Own-child</td>\n",
              "      <td>White</td>\n",
              "      <td>Female</td>\n",
              "      <td>0</td>\n",
              "      <td>0</td>\n",
              "      <td>25</td>\n",
              "      <td>United-States</td>\n",
              "      <td>-1</td>\n",
              "    </tr>\n",
              "    <tr>\n",
              "      <th>3</th>\n",
              "      <td>30</td>\n",
              "      <td>Private</td>\n",
              "      <td>137076</td>\n",
              "      <td>9</td>\n",
              "      <td>Married-civ-spouse</td>\n",
              "      <td>Transport-moving</td>\n",
              "      <td>Husband</td>\n",
              "      <td>White</td>\n",
              "      <td>Male</td>\n",
              "      <td>0</td>\n",
              "      <td>0</td>\n",
              "      <td>40</td>\n",
              "      <td>United-States</td>\n",
              "      <td>1</td>\n",
              "    </tr>\n",
              "    <tr>\n",
              "      <th>4</th>\n",
              "      <td>28</td>\n",
              "      <td>Self-emp-inc</td>\n",
              "      <td>219705</td>\n",
              "      <td>13</td>\n",
              "      <td>Married-civ-spouse</td>\n",
              "      <td>Exec-managerial</td>\n",
              "      <td>Husband</td>\n",
              "      <td>White</td>\n",
              "      <td>Male</td>\n",
              "      <td>5013</td>\n",
              "      <td>0</td>\n",
              "      <td>55</td>\n",
              "      <td>United-States</td>\n",
              "      <td>-1</td>\n",
              "    </tr>\n",
              "    <tr>\n",
              "      <th>5</th>\n",
              "      <td>43</td>\n",
              "      <td>Private</td>\n",
              "      <td>132130</td>\n",
              "      <td>11</td>\n",
              "      <td>Married-civ-spouse</td>\n",
              "      <td>Farming-fishing</td>\n",
              "      <td>Husband</td>\n",
              "      <td>White</td>\n",
              "      <td>Male</td>\n",
              "      <td>0</td>\n",
              "      <td>0</td>\n",
              "      <td>40</td>\n",
              "      <td>United-States</td>\n",
              "      <td>1</td>\n",
              "    </tr>\n",
              "    <tr>\n",
              "      <th>6</th>\n",
              "      <td>18</td>\n",
              "      <td>Private</td>\n",
              "      <td>338632</td>\n",
              "      <td>7</td>\n",
              "      <td>Never-married</td>\n",
              "      <td>Other-service</td>\n",
              "      <td>Own-child</td>\n",
              "      <td>White</td>\n",
              "      <td>Male</td>\n",
              "      <td>0</td>\n",
              "      <td>0</td>\n",
              "      <td>16</td>\n",
              "      <td>United-States</td>\n",
              "      <td>-1</td>\n",
              "    </tr>\n",
              "    <tr>\n",
              "      <th>7</th>\n",
              "      <td>29</td>\n",
              "      <td>Private</td>\n",
              "      <td>194197</td>\n",
              "      <td>13</td>\n",
              "      <td>Never-married</td>\n",
              "      <td>Exec-managerial</td>\n",
              "      <td>Own-child</td>\n",
              "      <td>White</td>\n",
              "      <td>Male</td>\n",
              "      <td>0</td>\n",
              "      <td>0</td>\n",
              "      <td>40</td>\n",
              "      <td>United-States</td>\n",
              "      <td>-1</td>\n",
              "    </tr>\n",
              "    <tr>\n",
              "      <th>8</th>\n",
              "      <td>48</td>\n",
              "      <td>Local-gov</td>\n",
              "      <td>142719</td>\n",
              "      <td>14</td>\n",
              "      <td>Married-civ-spouse</td>\n",
              "      <td>Prof-specialty</td>\n",
              "      <td>Husband</td>\n",
              "      <td>White</td>\n",
              "      <td>Male</td>\n",
              "      <td>0</td>\n",
              "      <td>0</td>\n",
              "      <td>40</td>\n",
              "      <td>United-States</td>\n",
              "      <td>1</td>\n",
              "    </tr>\n",
              "    <tr>\n",
              "      <th>9</th>\n",
              "      <td>37</td>\n",
              "      <td>Private</td>\n",
              "      <td>187748</td>\n",
              "      <td>10</td>\n",
              "      <td>Married-civ-spouse</td>\n",
              "      <td>Craft-repair</td>\n",
              "      <td>Husband</td>\n",
              "      <td>White</td>\n",
              "      <td>Male</td>\n",
              "      <td>0</td>\n",
              "      <td>0</td>\n",
              "      <td>40</td>\n",
              "      <td>United-States</td>\n",
              "      <td>-1</td>\n",
              "    </tr>\n",
              "  </tbody>\n",
              "</table>\n",
              "</div>\n",
              "      <button class=\"colab-df-convert\" onclick=\"convertToInteractive('df-4f4223ad-70a8-44e5-94e5-b58cf84e1b7d')\"\n",
              "              title=\"Convert this dataframe to an interactive table.\"\n",
              "              style=\"display:none;\">\n",
              "        \n",
              "  <svg xmlns=\"http://www.w3.org/2000/svg\" height=\"24px\"viewBox=\"0 0 24 24\"\n",
              "       width=\"24px\">\n",
              "    <path d=\"M0 0h24v24H0V0z\" fill=\"none\"/>\n",
              "    <path d=\"M18.56 5.44l.94 2.06.94-2.06 2.06-.94-2.06-.94-.94-2.06-.94 2.06-2.06.94zm-11 1L8.5 8.5l.94-2.06 2.06-.94-2.06-.94L8.5 2.5l-.94 2.06-2.06.94zm10 10l.94 2.06.94-2.06 2.06-.94-2.06-.94-.94-2.06-.94 2.06-2.06.94z\"/><path d=\"M17.41 7.96l-1.37-1.37c-.4-.4-.92-.59-1.43-.59-.52 0-1.04.2-1.43.59L10.3 9.45l-7.72 7.72c-.78.78-.78 2.05 0 2.83L4 21.41c.39.39.9.59 1.41.59.51 0 1.02-.2 1.41-.59l7.78-7.78 2.81-2.81c.8-.78.8-2.07 0-2.86zM5.41 20L4 18.59l7.72-7.72 1.47 1.35L5.41 20z\"/>\n",
              "  </svg>\n",
              "      </button>\n",
              "      \n",
              "  <style>\n",
              "    .colab-df-container {\n",
              "      display:flex;\n",
              "      flex-wrap:wrap;\n",
              "      gap: 12px;\n",
              "    }\n",
              "\n",
              "    .colab-df-convert {\n",
              "      background-color: #E8F0FE;\n",
              "      border: none;\n",
              "      border-radius: 50%;\n",
              "      cursor: pointer;\n",
              "      display: none;\n",
              "      fill: #1967D2;\n",
              "      height: 32px;\n",
              "      padding: 0 0 0 0;\n",
              "      width: 32px;\n",
              "    }\n",
              "\n",
              "    .colab-df-convert:hover {\n",
              "      background-color: #E2EBFA;\n",
              "      box-shadow: 0px 1px 2px rgba(60, 64, 67, 0.3), 0px 1px 3px 1px rgba(60, 64, 67, 0.15);\n",
              "      fill: #174EA6;\n",
              "    }\n",
              "\n",
              "    [theme=dark] .colab-df-convert {\n",
              "      background-color: #3B4455;\n",
              "      fill: #D2E3FC;\n",
              "    }\n",
              "\n",
              "    [theme=dark] .colab-df-convert:hover {\n",
              "      background-color: #434B5C;\n",
              "      box-shadow: 0px 1px 3px 1px rgba(0, 0, 0, 0.15);\n",
              "      filter: drop-shadow(0px 1px 2px rgba(0, 0, 0, 0.3));\n",
              "      fill: #FFFFFF;\n",
              "    }\n",
              "  </style>\n",
              "\n",
              "      <script>\n",
              "        const buttonEl =\n",
              "          document.querySelector('#df-4f4223ad-70a8-44e5-94e5-b58cf84e1b7d button.colab-df-convert');\n",
              "        buttonEl.style.display =\n",
              "          google.colab.kernel.accessAllowed ? 'block' : 'none';\n",
              "\n",
              "        async function convertToInteractive(key) {\n",
              "          const element = document.querySelector('#df-4f4223ad-70a8-44e5-94e5-b58cf84e1b7d');\n",
              "          const dataTable =\n",
              "            await google.colab.kernel.invokeFunction('convertToInteractive',\n",
              "                                                     [key], {});\n",
              "          if (!dataTable) return;\n",
              "\n",
              "          const docLinkHtml = 'Like what you see? Visit the ' +\n",
              "            '<a target=\"_blank\" href=https://colab.research.google.com/notebooks/data_table.ipynb>data table notebook</a>'\n",
              "            + ' to learn more about interactive tables.';\n",
              "          element.innerHTML = '';\n",
              "          dataTable['output_type'] = 'display_data';\n",
              "          await google.colab.output.renderOutput(dataTable, element);\n",
              "          const docLink = document.createElement('div');\n",
              "          docLink.innerHTML = docLinkHtml;\n",
              "          element.appendChild(docLink);\n",
              "        }\n",
              "      </script>\n",
              "    </div>\n",
              "  </div>\n",
              "  "
            ]
          },
          "metadata": {},
          "execution_count": 42
        }
      ]
    },
    {
      "cell_type": "code",
      "source": [
        "#Visualizando os atributos nominais do dataset ada_prior\n",
        "nominal_ada_prior = ['workclass', 'maritalStatus', 'occupation', 'relationship', 'race', 'sex', 'nativeCountry', 'label']\n",
        "\n",
        "for atributo in nominal_ada_prior:\n",
        "  data = ada_prior[atributo].unique()\n",
        "  plt.figure(figsize=(4,4))\n",
        "  ada_prior[atributo].value_counts().plot.pie(labels = data, autopct='%1.0f%%')\n",
        "  #plt.legend(loc=\"best\")\n",
        "  plt.show() "
      ],
      "metadata": {
        "colab": {
          "base_uri": "https://localhost:8080/"
        },
        "id": "GS2o0JN8fojb",
        "outputId": "e06df045-d3fa-4fc7-b51b-86f2bb74a5d2"
      },
      "execution_count": null,
      "outputs": [
        {
          "output_type": "display_data",
          "data": {
            "text/plain": [
              "<Figure size 288x288 with 1 Axes>"
            ],
            "image/png": "[encoded data removed]"
          },
          "metadata": {}
        },
        {
          "output_type": "display_data",
          "data": {
            "text/plain": [
              "<Figure size 288x288 with 1 Axes>"
            ],
            "image/png": "[encoded data removed]"
          },
          "metadata": {}
        },
        {
          "output_type": "display_data",
          "data": {
            "text/plain": [
              "<Figure size 288x288 with 1 Axes>"
            ],
            "image/png": "[encoded data removed]"
          },
          "metadata": {}
        },
        {
          "output_type": "display_data",
          "data": {
            "text/plain": [
              "<Figure size 288x288 with 1 Axes>"
            ],
            "image/png": "[encoded data removed]"
          },
          "metadata": {}
        },
        {
          "output_type": "display_data",
          "data": {
            "text/plain": [
              "<Figure size 288x288 with 1 Axes>"
            ],
            "image/png": "[encoded data removed]"
          },
          "metadata": {}
        },
        {
          "output_type": "display_data",
          "data": {
            "text/plain": [
              "<Figure size 288x288 with 1 Axes>"
            ],
            "image/png": "[encoded data removed]"
          },
          "metadata": {}
        },
        {
          "output_type": "display_data",
          "data": {
            "text/plain": [
              "<Figure size 288x288 with 1 Axes>"
            ],
            "image/png": "[encoded data removed]"
          },
          "metadata": {}
        },
        {
          "output_type": "display_data",
          "data": {
            "text/plain": [
              "<Figure size 288x288 with 1 Axes>"
            ],
            "image/png": "[encoded data removed]"
          },
          "metadata": {}
        }
      ]
    },
    {
      "cell_type": "code",
      "source": [
        "#vizualizando caracterísicas dos atributos numéricos de ada_prior\n",
        "numericos_ada_prior = ['age', 'fnlwgt', 'educationNum', 'capitalGain', 'capitalLoss', 'hoursPerWeek']\n",
        "\n",
        "for atributo in numericos_ada_prior:\n",
        "  print(\"ATRIBUTO: \" + atributo)\n",
        "  print(\"MIN: \" + str(ada_prior[atributo].min()))\n",
        "  print(\"MAX: \" + str(ada_prior[atributo].max()))\n",
        "  print(\"MÉDIA: \" + str(ada_prior[atributo].mean()))\n",
        "  print(\"DESV PADRÃO: \"+ str(ada_prior[atributo].std()))\n",
        "  plt.boxplot(ada_prior[atributo])\n",
        "  plt.title(atributo)\n",
        "  plt.show()"
      ],
      "metadata": {
        "colab": {
          "base_uri": "https://localhost:8080/"
        },
        "id": "wadgTPjMfvPC",
        "outputId": "fde8558c-9e9c-4b46-acae-a66dbb8676ae"
      },
      "execution_count": null,
      "outputs": [
        {
          "output_type": "stream",
          "name": "stdout",
          "text": [
            "ATRIBUTO: age\n",
            "MIN: 17\n",
            "MAX: 90\n",
            "MÉDIA: 38.573213502849626\n",
            "DESV PADRÃO: 13.239252252115397\n"
          ]
        },
        {
          "output_type": "display_data",
          "data": {
            "text/plain": [
              "<Figure size 432x288 with 1 Axes>"
            ],
            "image/png": "[encoded data removed]"
          },
          "metadata": {
            "needs_background": "light"
          }
        },
        {
          "output_type": "stream",
          "name": "stdout",
          "text": [
            "ATRIBUTO: fnlwgt\n",
            "MIN: 20308\n",
            "MAX: 1184622\n",
            "MÉDIA: 191077.2270933801\n",
            "DESV PADRÃO: 108007.3309201763\n"
          ]
        },
        {
          "output_type": "display_data",
          "data": {
            "text/plain": [
              "<Figure size 432x288 with 1 Axes>"
            ],
            "image/png": "[encoded data removed]"
          },
          "metadata": {
            "needs_background": "light"
          }
        },
        {
          "output_type": "stream",
          "name": "stdout",
          "text": [
            "ATRIBUTO: educationNum\n",
            "MIN: 1\n",
            "MAX: 16\n",
            "MÉDIA: 10.154537483559842\n",
            "DESV PADRÃO: 2.530240304710453\n"
          ]
        },
        {
          "output_type": "display_data",
          "data": {
            "text/plain": [
              "<Figure size 432x288 with 1 Axes>"
            ],
            "image/png": "[encoded data removed]"
          },
          "metadata": {
            "needs_background": "light"
          }
        },
        {
          "output_type": "stream",
          "name": "stdout",
          "text": [
            "ATRIBUTO: capitalGain\n",
            "MIN: 0\n",
            "MAX: 99999\n",
            "MÉDIA: 1210.446514686541\n",
            "DESV PADRÃO: 8429.2193736789\n"
          ]
        },
        {
          "output_type": "display_data",
          "data": {
            "text/plain": [
              "<Figure size 432x288 with 1 Axes>"
            ],
            "image/png": "[encoded data removed]"
          },
          "metadata": {
            "needs_background": "light"
          }
        },
        {
          "output_type": "stream",
          "name": "stdout",
          "text": [
            "ATRIBUTO: capitalLoss\n",
            "MIN: 0\n",
            "MAX: 3683\n",
            "MÉDIA: 96.14861902674265\n",
            "DESV PADRÃO: 422.8195140060667\n"
          ]
        },
        {
          "output_type": "display_data",
          "data": {
            "text/plain": [
              "<Figure size 432x288 with 1 Axes>"
            ],
            "image/png": "[encoded data removed]"
          },
          "metadata": {
            "needs_background": "light"
          }
        },
        {
          "output_type": "stream",
          "name": "stdout",
          "text": [
            "ATRIBUTO: hoursPerWeek\n",
            "MIN: 2\n",
            "MAX: 99\n",
            "MÉDIA: 40.53726435773783\n",
            "DESV PADRÃO: 11.861199062711092\n"
          ]
        },
        {
          "output_type": "display_data",
          "data": {
            "text/plain": [
              "<Figure size 432x288 with 1 Axes>"
            ],
            "image/png": "[encoded data removed]"
          },
          "metadata": {
            "needs_background": "light"
          }
        }
      ]
    },
    {
      "cell_type": "markdown",
      "source": [
        "### **Identificar portadores de uma doença genética rara**"
      ],
      "metadata": {
        "id": "zNZj6oFhfDCg"
      }
    },
    {
      "cell_type": "markdown",
      "source": [
        "1. Número da observação\n",
        "2. Número de identificação do hospital para amostra de sangue\n",
        "3. Idade do paciente\n",
        "4. Data em que se tirou sangue (mmddyy)\n",
        "5. ml (1ª medição) sss.s\n",
        "6. m2 (2ª medição) xxx.x\n",
        "7. m3 (3ª medição) xxx.x\n",
        "8. m4 (4ª medição) xxx Seven missing data points.\n",
        "9. Portador ou não portador de doença rara"
      ],
      "metadata": {
        "id": "VFzjYQ4lg-UB"
      }
    },
    {
      "cell_type": "code",
      "source": [
        "biomed.head(10)\n"
      ],
      "metadata": {
        "colab": {
          "base_uri": "https://localhost:8080/"
        },
        "id": "obapk3o8ciGl",
        "outputId": "b9989a9a-719c-4d1d-a029-2db42b54114e"
      },
      "execution_count": null,
      "outputs": [
        {
          "output_type": "execute_result",
          "data": {
            "text/plain": [
              "    Observation_number  Hospital_identification_number_for_blood_sample  \\\n",
              "0                    1                                              923   \n",
              "1                    1                                              825   \n",
              "2                    1                                              949   \n",
              "3                    1                                              895   \n",
              "5                    1                                              941   \n",
              "6                    3                                             1300   \n",
              "7                    1                                              767   \n",
              "8                    3                                             1398   \n",
              "9                    1                                             1285   \n",
              "10                   1                                              978   \n",
              "\n",
              "    Age_of_patient  Date_that_blood_sample_was_taken     ml     m2     m3  \\\n",
              "0               31                             60078  657.0  104.0  110.0   \n",
              "1               30                            110078   22.0   91.0   17.5   \n",
              "2               42                             80078   78.0  118.0   15.5   \n",
              "3               23                             10078   40.0   83.0   15.2   \n",
              "5               31                             40079   34.0   92.7    7.9   \n",
              "6               33                            100079   43.0   88.5   20.3   \n",
              "7               22                             60078   48.0   76.0   16.6   \n",
              "8               39                             90079  148.0  105.2   18.8   \n",
              "9               25                             90079   72.0   80.5   12.0   \n",
              "10              35                             90078  129.0   93.1   18.3   \n",
              "\n",
              "       m4    class  \n",
              "0   358.0  carrier  \n",
              "1   198.0   normal  \n",
              "2   212.0  carrier  \n",
              "3   205.0   normal  \n",
              "5   140.0   normal  \n",
              "6   175.0   normal  \n",
              "7   133.0   normal  \n",
              "8   221.0  carrier  \n",
              "9   225.0   normal  \n",
              "10  188.0  carrier  "
            ],
            "text/html": [
              "\n",
              "  <div id=\"df-3c493fc3-4e69-4ae7-956c-1d611683a232\">\n",
              "    <div class=\"colab-df-container\">\n",
              "      <div>\n",
              "<style scoped>\n",
              "    .dataframe tbody tr th:only-of-type {\n",
              "        vertical-align: middle;\n",
              "    }\n",
              "\n",
              "    .dataframe tbody tr th {\n",
              "        vertical-align: top;\n",
              "    }\n",
              "\n",
              "    .dataframe thead th {\n",
              "        text-align: right;\n",
              "    }\n",
              "</style>\n",
              "<table border=\"1\" class=\"dataframe\">\n",
              "  <thead>\n",
              "    <tr style=\"text-align: right;\">\n",
              "      <th></th>\n",
              "      <th>Observation_number</th>\n",
              "      <th>Hospital_identification_number_for_blood_sample</th>\n",
              "      <th>Age_of_patient</th>\n",
              "      <th>Date_that_blood_sample_was_taken</th>\n",
              "      <th>ml</th>\n",
              "      <th>m2</th>\n",
              "      <th>m3</th>\n",
              "      <th>m4</th>\n",
              "      <th>class</th>\n",
              "    </tr>\n",
              "  </thead>\n",
              "  <tbody>\n",
              "    <tr>\n",
              "      <th>0</th>\n",
              "      <td>1</td>\n",
              "      <td>923</td>\n",
              "      <td>31</td>\n",
              "      <td>60078</td>\n",
              "      <td>657.0</td>\n",
              "      <td>104.0</td>\n",
              "      <td>110.0</td>\n",
              "      <td>358.0</td>\n",
              "      <td>carrier</td>\n",
              "    </tr>\n",
              "    <tr>\n",
              "      <th>1</th>\n",
              "      <td>1</td>\n",
              "      <td>825</td>\n",
              "      <td>30</td>\n",
              "      <td>110078</td>\n",
              "      <td>22.0</td>\n",
              "      <td>91.0</td>\n",
              "      <td>17.5</td>\n",
              "      <td>198.0</td>\n",
              "      <td>normal</td>\n",
              "    </tr>\n",
              "    <tr>\n",
              "      <th>2</th>\n",
              "      <td>1</td>\n",
              "      <td>949</td>\n",
              "      <td>42</td>\n",
              "      <td>80078</td>\n",
              "      <td>78.0</td>\n",
              "      <td>118.0</td>\n",
              "      <td>15.5</td>\n",
              "      <td>212.0</td>\n",
              "      <td>carrier</td>\n",
              "    </tr>\n",
              "    <tr>\n",
              "      <th>3</th>\n",
              "      <td>1</td>\n",
              "      <td>895</td>\n",
              "      <td>23</td>\n",
              "      <td>10078</td>\n",
              "      <td>40.0</td>\n",
              "      <td>83.0</td>\n",
              "      <td>15.2</td>\n",
              "      <td>205.0</td>\n",
              "      <td>normal</td>\n",
              "    </tr>\n",
              "    <tr>\n",
              "      <th>5</th>\n",
              "      <td>1</td>\n",
              "      <td>941</td>\n",
              "      <td>31</td>\n",
              "      <td>40079</td>\n",
              "      <td>34.0</td>\n",
              "      <td>92.7</td>\n",
              "      <td>7.9</td>\n",
              "      <td>140.0</td>\n",
              "      <td>normal</td>\n",
              "    </tr>\n",
              "    <tr>\n",
              "      <th>6</th>\n",
              "      <td>3</td>\n",
              "      <td>1300</td>\n",
              "      <td>33</td>\n",
              "      <td>100079</td>\n",
              "      <td>43.0</td>\n",
              "      <td>88.5</td>\n",
              "      <td>20.3</td>\n",
              "      <td>175.0</td>\n",
              "      <td>normal</td>\n",
              "    </tr>\n",
              "    <tr>\n",
              "      <th>7</th>\n",
              "      <td>1</td>\n",
              "      <td>767</td>\n",
              "      <td>22</td>\n",
              "      <td>60078</td>\n",
              "      <td>48.0</td>\n",
              "      <td>76.0</td>\n",
              "      <td>16.6</td>\n",
              "      <td>133.0</td>\n",
              "      <td>normal</td>\n",
              "    </tr>\n",
              "    <tr>\n",
              "      <th>8</th>\n",
              "      <td>3</td>\n",
              "      <td>1398</td>\n",
              "      <td>39</td>\n",
              "      <td>90079</td>\n",
              "      <td>148.0</td>\n",
              "      <td>105.2</td>\n",
              "      <td>18.8</td>\n",
              "      <td>221.0</td>\n",
              "      <td>carrier</td>\n",
              "    </tr>\n",
              "    <tr>\n",
              "      <th>9</th>\n",
              "      <td>1</td>\n",
              "      <td>1285</td>\n",
              "      <td>25</td>\n",
              "      <td>90079</td>\n",
              "      <td>72.0</td>\n",
              "      <td>80.5</td>\n",
              "      <td>12.0</td>\n",
              "      <td>225.0</td>\n",
              "      <td>normal</td>\n",
              "    </tr>\n",
              "    <tr>\n",
              "      <th>10</th>\n",
              "      <td>1</td>\n",
              "      <td>978</td>\n",
              "      <td>35</td>\n",
              "      <td>90078</td>\n",
              "      <td>129.0</td>\n",
              "      <td>93.1</td>\n",
              "      <td>18.3</td>\n",
              "      <td>188.0</td>\n",
              "      <td>carrier</td>\n",
              "    </tr>\n",
              "  </tbody>\n",
              "</table>\n",
              "</div>\n",
              "      <button class=\"colab-df-convert\" onclick=\"convertToInteractive('df-3c493fc3-4e69-4ae7-956c-1d611683a232')\"\n",
              "              title=\"Convert this dataframe to an interactive table.\"\n",
              "              style=\"display:none;\">\n",
              "        \n",
              "  <svg xmlns=\"http://www.w3.org/2000/svg\" height=\"24px\"viewBox=\"0 0 24 24\"\n",
              "       width=\"24px\">\n",
              "    <path d=\"M0 0h24v24H0V0z\" fill=\"none\"/>\n",
              "    <path d=\"M18.56 5.44l.94 2.06.94-2.06 2.06-.94-2.06-.94-.94-2.06-.94 2.06-2.06.94zm-11 1L8.5 8.5l.94-2.06 2.06-.94-2.06-.94L8.5 2.5l-.94 2.06-2.06.94zm10 10l.94 2.06.94-2.06 2.06-.94-2.06-.94-.94-2.06-.94 2.06-2.06.94z\"/><path d=\"M17.41 7.96l-1.37-1.37c-.4-.4-.92-.59-1.43-.59-.52 0-1.04.2-1.43.59L10.3 9.45l-7.72 7.72c-.78.78-.78 2.05 0 2.83L4 21.41c.39.39.9.59 1.41.59.51 0 1.02-.2 1.41-.59l7.78-7.78 2.81-2.81c.8-.78.8-2.07 0-2.86zM5.41 20L4 18.59l7.72-7.72 1.47 1.35L5.41 20z\"/>\n",
              "  </svg>\n",
              "      </button>\n",
              "      \n",
              "  <style>\n",
              "    .colab-df-container {\n",
              "      display:flex;\n",
              "      flex-wrap:wrap;\n",
              "      gap: 12px;\n",
              "    }\n",
              "\n",
              "    .colab-df-convert {\n",
              "      background-color: #E8F0FE;\n",
              "      border: none;\n",
              "      border-radius: 50%;\n",
              "      cursor: pointer;\n",
              "      display: none;\n",
              "      fill: #1967D2;\n",
              "      height: 32px;\n",
              "      padding: 0 0 0 0;\n",
              "      width: 32px;\n",
              "    }\n",
              "\n",
              "    .colab-df-convert:hover {\n",
              "      background-color: #E2EBFA;\n",
              "      box-shadow: 0px 1px 2px rgba(60, 64, 67, 0.3), 0px 1px 3px 1px rgba(60, 64, 67, 0.15);\n",
              "      fill: #174EA6;\n",
              "    }\n",
              "\n",
              "    [theme=dark] .colab-df-convert {\n",
              "      background-color: #3B4455;\n",
              "      fill: #D2E3FC;\n",
              "    }\n",
              "\n",
              "    [theme=dark] .colab-df-convert:hover {\n",
              "      background-color: #434B5C;\n",
              "      box-shadow: 0px 1px 3px 1px rgba(0, 0, 0, 0.15);\n",
              "      filter: drop-shadow(0px 1px 2px rgba(0, 0, 0, 0.3));\n",
              "      fill: #FFFFFF;\n",
              "    }\n",
              "  </style>\n",
              "\n",
              "      <script>\n",
              "        const buttonEl =\n",
              "          document.querySelector('#df-3c493fc3-4e69-4ae7-956c-1d611683a232 button.colab-df-convert');\n",
              "        buttonEl.style.display =\n",
              "          google.colab.kernel.accessAllowed ? 'block' : 'none';\n",
              "\n",
              "        async function convertToInteractive(key) {\n",
              "          const element = document.querySelector('#df-3c493fc3-4e69-4ae7-956c-1d611683a232');\n",
              "          const dataTable =\n",
              "            await google.colab.kernel.invokeFunction('convertToInteractive',\n",
              "                                                     [key], {});\n",
              "          if (!dataTable) return;\n",
              "\n",
              "          const docLinkHtml = 'Like what you see? Visit the ' +\n",
              "            '<a target=\"_blank\" href=https://colab.research.google.com/notebooks/data_table.ipynb>data table notebook</a>'\n",
              "            + ' to learn more about interactive tables.';\n",
              "          element.innerHTML = '';\n",
              "          dataTable['output_type'] = 'display_data';\n",
              "          await google.colab.output.renderOutput(dataTable, element);\n",
              "          const docLink = document.createElement('div');\n",
              "          docLink.innerHTML = docLinkHtml;\n",
              "          element.appendChild(docLink);\n",
              "        }\n",
              "      </script>\n",
              "    </div>\n",
              "  </div>\n",
              "  "
            ]
          },
          "metadata": {},
          "execution_count": 45
        }
      ]
    },
    {
      "cell_type": "code",
      "source": [
        "#vizualizando distribuição dos atributos nominais de biomed\n",
        "nominal_biomed = ['Observation_number', 'class']\n",
        "\n",
        "for atributo in nominal_biomed:\n",
        "  data = biomed[atributo].unique()\n",
        "  plt.figure(figsize=(4,4))\n",
        "  biomed[atributo].value_counts().plot.pie(labels = data, autopct='%1.0f%%')\n",
        "  #plt.legend(loc=\"best\")\n",
        "  plt.show() "
      ],
      "metadata": {
        "colab": {
          "base_uri": "https://localhost:8080/"
        },
        "id": "a2A0C4fkOEPj",
        "outputId": "96413274-e4ba-4055-b2ef-e105967395f4"
      },
      "execution_count": null,
      "outputs": [
        {
          "output_type": "display_data",
          "data": {
            "text/plain": [
              "<Figure size 288x288 with 1 Axes>"
            ],
            "image/png": "[encoded data removed]"
          },
          "metadata": {}
        },
        {
          "output_type": "display_data",
          "data": {
            "text/plain": [
              "<Figure size 288x288 with 1 Axes>"
            ],
            "image/png": "[encoded data removed]"
          },
          "metadata": {}
        }
      ]
    },
    {
      "cell_type": "code",
      "source": [
        "#vizualizando caracterísicas dos atributos numéricos de biomed\n",
        "numericos_biomed = ['Age_of_patient', 'ml','m2','m3','m4'] \n",
        "\n",
        "for atributo in numericos_biomed:\n",
        "  print(\"ATRIBUTO: \" + atributo)\n",
        "  print(\"MIN: \" + str(biomed[atributo].min()))\n",
        "  print(\"MAX: \" + str(biomed[atributo].max()))\n",
        "  print(\"MÉDIA: \" + str(biomed[atributo].mean()))\n",
        "  print(\"DESV PADRÃO: \"+ str(biomed[atributo].std()))\n",
        "  plt.boxplot(biomed[atributo])\n",
        "  plt.title(atributo)\n",
        "  plt.show()"
      ],
      "metadata": {
        "colab": {
          "base_uri": "https://localhost:8080/"
        },
        "id": "mogRt0C9SqaF",
        "outputId": "6e70dbf0-10b4-48eb-c97b-2007bc55ccde"
      },
      "execution_count": null,
      "outputs": [
        {
          "output_type": "stream",
          "name": "stdout",
          "text": [
            "ATRIBUTO: Age_of_patient\n",
            "MIN: 20\n",
            "MAX: 61\n",
            "MÉDIA: 32.123711340206185\n",
            "DESV PADRÃO: 8.561581535123347\n"
          ]
        },
        {
          "output_type": "display_data",
          "data": {
            "text/plain": [
              "<Figure size 432x288 with 1 Axes>"
            ],
            "image/png": "[encoded data removed]"
          },
          "metadata": {
            "needs_background": "light"
          }
        },
        {
          "output_type": "stream",
          "name": "stdout",
          "text": [
            "ATRIBUTO: ml\n",
            "MIN: 15.0\n",
            "MAX: 1288.0\n",
            "MÉDIA: 90.09948453608247\n",
            "DESV PADRÃO: 150.64037348627778\n"
          ]
        },
        {
          "output_type": "display_data",
          "data": {
            "text/plain": [
              "<Figure size 432x288 with 1 Axes>"
            ],
            "image/png": "[encoded data removed]"
          },
          "metadata": {
            "needs_background": "light"
          }
        },
        {
          "output_type": "stream",
          "name": "stdout",
          "text": [
            "ATRIBUTO: m2\n",
            "MIN: 34.0\n",
            "MAX: 118.0\n",
            "MÉDIA: 85.97628865979381\n",
            "DESV PADRÃO: 12.516768219980769\n"
          ]
        },
        {
          "output_type": "display_data",
          "data": {
            "text/plain": [
              "<Figure size 432x288 with 1 Axes>"
            ],
            "image/png": "[encoded data removed]"
          },
          "metadata": {
            "needs_background": "light"
          }
        },
        {
          "output_type": "stream",
          "name": "stdout",
          "text": [
            "ATRIBUTO: m3\n",
            "MIN: 2.8\n",
            "MAX: 110.0\n",
            "MÉDIA: 16.21649484536082\n",
            "DESV PADRÃO: 12.062172107062137\n"
          ]
        },
        {
          "output_type": "display_data",
          "data": {
            "text/plain": [
              "<Figure size 432x288 with 1 Axes>"
            ],
            "image/png": "[encoded data removed]"
          },
          "metadata": {
            "needs_background": "light"
          }
        },
        {
          "output_type": "stream",
          "name": "stdout",
          "text": [
            "ATRIBUTO: m4\n",
            "MIN: 66.0\n",
            "MAX: 438.0\n",
            "MÉDIA: 194.4020618556701\n",
            "DESV PADRÃO: 67.87281000294327\n"
          ]
        },
        {
          "output_type": "display_data",
          "data": {
            "text/plain": [
              "<Figure size 432x288 with 1 Axes>"
            ],
            "image/png": "[encoded data removed]"
          },
          "metadata": {
            "needs_background": "light"
          }
        }
      ]
    },
    {
      "cell_type": "markdown",
      "source": [
        "### **Pacientes hepáticos e não hepáticos na Índia**"
      ],
      "metadata": {
        "id": "75JqrNEkfGyO"
      }
    },
    {
      "cell_type": "markdown",
      "source": [
        "1. Idade do paciente. Qualquer paciente cuja idade ultrapasse 89 anos é listado como tendo idade \"90\".\n",
        "2. Gênero do paciente\n",
        "3. Bilirrubina Total\n",
        "4. Bilirrubina Direta\n",
        "5. Alkphos Fosfatase Alcalina\n",
        "6. Sgpt Alanina Aminotransferase\n",
        "7. Sgot Aspartato Aminotransferase\n",
        "8. Proteínas Totais\n",
        "9. Albumina\n",
        "10. Relação A/G Albumina e Relação Globulina"
      ],
      "metadata": {
        "id": "wUTP07x7hA0I"
      }
    },
    {
      "cell_type": "code",
      "source": [
        "ilpd.head(10)"
      ],
      "metadata": {
        "colab": {
          "base_uri": "https://localhost:8080/"
        },
        "id": "RmudZUKMckTm",
        "outputId": "de20ca7a-ea8f-400f-a837-7e99ee748088"
      },
      "execution_count": null,
      "outputs": [
        {
          "output_type": "execute_result",
          "data": {
            "text/plain": [
              "   V1      V2    V3    V4   V5  V6   V7   V8   V9       V10  Class\n",
              "0  60    Male   0.7   0.2  171  31   26  7.0  3.5  1.000000      2\n",
              "1  54  Female   1.4   0.7  195  36   16  7.9  3.7  0.900000      2\n",
              "2  52    Male   0.6   0.1  178  26   27  6.5  3.6  1.200000      2\n",
              "3  27    Male   1.0   0.3  180  56  111  6.8  3.9  1.850000      2\n",
              "4  45    Male  20.2  11.7  188  47   32  5.4  2.3  0.700000      1\n",
              "5  35  Female   0.6   0.2  180  12   15  5.2  2.7  0.947064      2\n",
              "6  35    Male   0.7   0.2  198  42   30  6.8  3.4  1.000000      1\n",
              "7  39    Male   1.9   0.9  180  42   62  7.4  4.3  1.380000      1\n",
              "8  60    Male   0.8   0.2  286  21   27  7.1  4.0  1.200000      1\n",
              "9  64    Male   3.0   1.4  248  46   40  6.5  3.2  0.900000      1"
            ],
            "text/html": [
              "\n",
              "  <div id=\"df-3a53c823-06a3-4526-8b0d-46a07522232d\">\n",
              "    <div class=\"colab-df-container\">\n",
              "      <div>\n",
              "<style scoped>\n",
              "    .dataframe tbody tr th:only-of-type {\n",
              "        vertical-align: middle;\n",
              "    }\n",
              "\n",
              "    .dataframe tbody tr th {\n",
              "        vertical-align: top;\n",
              "    }\n",
              "\n",
              "    .dataframe thead th {\n",
              "        text-align: right;\n",
              "    }\n",
              "</style>\n",
              "<table border=\"1\" class=\"dataframe\">\n",
              "  <thead>\n",
              "    <tr style=\"text-align: right;\">\n",
              "      <th></th>\n",
              "      <th>V1</th>\n",
              "      <th>V2</th>\n",
              "      <th>V3</th>\n",
              "      <th>V4</th>\n",
              "      <th>V5</th>\n",
              "      <th>V6</th>\n",
              "      <th>V7</th>\n",
              "      <th>V8</th>\n",
              "      <th>V9</th>\n",
              "      <th>V10</th>\n",
              "      <th>Class</th>\n",
              "    </tr>\n",
              "  </thead>\n",
              "  <tbody>\n",
              "    <tr>\n",
              "      <th>0</th>\n",
              "      <td>60</td>\n",
              "      <td>Male</td>\n",
              "      <td>0.7</td>\n",
              "      <td>0.2</td>\n",
              "      <td>171</td>\n",
              "      <td>31</td>\n",
              "      <td>26</td>\n",
              "      <td>7.0</td>\n",
              "      <td>3.5</td>\n",
              "      <td>1.000000</td>\n",
              "      <td>2</td>\n",
              "    </tr>\n",
              "    <tr>\n",
              "      <th>1</th>\n",
              "      <td>54</td>\n",
              "      <td>Female</td>\n",
              "      <td>1.4</td>\n",
              "      <td>0.7</td>\n",
              "      <td>195</td>\n",
              "      <td>36</td>\n",
              "      <td>16</td>\n",
              "      <td>7.9</td>\n",
              "      <td>3.7</td>\n",
              "      <td>0.900000</td>\n",
              "      <td>2</td>\n",
              "    </tr>\n",
              "    <tr>\n",
              "      <th>2</th>\n",
              "      <td>52</td>\n",
              "      <td>Male</td>\n",
              "      <td>0.6</td>\n",
              "      <td>0.1</td>\n",
              "      <td>178</td>\n",
              "      <td>26</td>\n",
              "      <td>27</td>\n",
              "      <td>6.5</td>\n",
              "      <td>3.6</td>\n",
              "      <td>1.200000</td>\n",
              "      <td>2</td>\n",
              "    </tr>\n",
              "    <tr>\n",
              "      <th>3</th>\n",
              "      <td>27</td>\n",
              "      <td>Male</td>\n",
              "      <td>1.0</td>\n",
              "      <td>0.3</td>\n",
              "      <td>180</td>\n",
              "      <td>56</td>\n",
              "      <td>111</td>\n",
              "      <td>6.8</td>\n",
              "      <td>3.9</td>\n",
              "      <td>1.850000</td>\n",
              "      <td>2</td>\n",
              "    </tr>\n",
              "    <tr>\n",
              "      <th>4</th>\n",
              "      <td>45</td>\n",
              "      <td>Male</td>\n",
              "      <td>20.2</td>\n",
              "      <td>11.7</td>\n",
              "      <td>188</td>\n",
              "      <td>47</td>\n",
              "      <td>32</td>\n",
              "      <td>5.4</td>\n",
              "      <td>2.3</td>\n",
              "      <td>0.700000</td>\n",
              "      <td>1</td>\n",
              "    </tr>\n",
              "    <tr>\n",
              "      <th>5</th>\n",
              "      <td>35</td>\n",
              "      <td>Female</td>\n",
              "      <td>0.6</td>\n",
              "      <td>0.2</td>\n",
              "      <td>180</td>\n",
              "      <td>12</td>\n",
              "      <td>15</td>\n",
              "      <td>5.2</td>\n",
              "      <td>2.7</td>\n",
              "      <td>0.947064</td>\n",
              "      <td>2</td>\n",
              "    </tr>\n",
              "    <tr>\n",
              "      <th>6</th>\n",
              "      <td>35</td>\n",
              "      <td>Male</td>\n",
              "      <td>0.7</td>\n",
              "      <td>0.2</td>\n",
              "      <td>198</td>\n",
              "      <td>42</td>\n",
              "      <td>30</td>\n",
              "      <td>6.8</td>\n",
              "      <td>3.4</td>\n",
              "      <td>1.000000</td>\n",
              "      <td>1</td>\n",
              "    </tr>\n",
              "    <tr>\n",
              "      <th>7</th>\n",
              "      <td>39</td>\n",
              "      <td>Male</td>\n",
              "      <td>1.9</td>\n",
              "      <td>0.9</td>\n",
              "      <td>180</td>\n",
              "      <td>42</td>\n",
              "      <td>62</td>\n",
              "      <td>7.4</td>\n",
              "      <td>4.3</td>\n",
              "      <td>1.380000</td>\n",
              "      <td>1</td>\n",
              "    </tr>\n",
              "    <tr>\n",
              "      <th>8</th>\n",
              "      <td>60</td>\n",
              "      <td>Male</td>\n",
              "      <td>0.8</td>\n",
              "      <td>0.2</td>\n",
              "      <td>286</td>\n",
              "      <td>21</td>\n",
              "      <td>27</td>\n",
              "      <td>7.1</td>\n",
              "      <td>4.0</td>\n",
              "      <td>1.200000</td>\n",
              "      <td>1</td>\n",
              "    </tr>\n",
              "    <tr>\n",
              "      <th>9</th>\n",
              "      <td>64</td>\n",
              "      <td>Male</td>\n",
              "      <td>3.0</td>\n",
              "      <td>1.4</td>\n",
              "      <td>248</td>\n",
              "      <td>46</td>\n",
              "      <td>40</td>\n",
              "      <td>6.5</td>\n",
              "      <td>3.2</td>\n",
              "      <td>0.900000</td>\n",
              "      <td>1</td>\n",
              "    </tr>\n",
              "  </tbody>\n",
              "</table>\n",
              "</div>\n",
              "      <button class=\"colab-df-convert\" onclick=\"convertToInteractive('df-3a53c823-06a3-4526-8b0d-46a07522232d')\"\n",
              "              title=\"Convert this dataframe to an interactive table.\"\n",
              "              style=\"display:none;\">\n",
              "        \n",
              "  <svg xmlns=\"http://www.w3.org/2000/svg\" height=\"24px\"viewBox=\"0 0 24 24\"\n",
              "       width=\"24px\">\n",
              "    <path d=\"M0 0h24v24H0V0z\" fill=\"none\"/>\n",
              "    <path d=\"M18.56 5.44l.94 2.06.94-2.06 2.06-.94-2.06-.94-.94-2.06-.94 2.06-2.06.94zm-11 1L8.5 8.5l.94-2.06 2.06-.94-2.06-.94L8.5 2.5l-.94 2.06-2.06.94zm10 10l.94 2.06.94-2.06 2.06-.94-2.06-.94-.94-2.06-.94 2.06-2.06.94z\"/><path d=\"M17.41 7.96l-1.37-1.37c-.4-.4-.92-.59-1.43-.59-.52 0-1.04.2-1.43.59L10.3 9.45l-7.72 7.72c-.78.78-.78 2.05 0 2.83L4 21.41c.39.39.9.59 1.41.59.51 0 1.02-.2 1.41-.59l7.78-7.78 2.81-2.81c.8-.78.8-2.07 0-2.86zM5.41 20L4 18.59l7.72-7.72 1.47 1.35L5.41 20z\"/>\n",
              "  </svg>\n",
              "      </button>\n",
              "      \n",
              "  <style>\n",
              "    .colab-df-container {\n",
              "      display:flex;\n",
              "      flex-wrap:wrap;\n",
              "      gap: 12px;\n",
              "    }\n",
              "\n",
              "    .colab-df-convert {\n",
              "      background-color: #E8F0FE;\n",
              "      border: none;\n",
              "      border-radius: 50%;\n",
              "      cursor: pointer;\n",
              "      display: none;\n",
              "      fill: #1967D2;\n",
              "      height: 32px;\n",
              "      padding: 0 0 0 0;\n",
              "      width: 32px;\n",
              "    }\n",
              "\n",
              "    .colab-df-convert:hover {\n",
              "      background-color: #E2EBFA;\n",
              "      box-shadow: 0px 1px 2px rgba(60, 64, 67, 0.3), 0px 1px 3px 1px rgba(60, 64, 67, 0.15);\n",
              "      fill: #174EA6;\n",
              "    }\n",
              "\n",
              "    [theme=dark] .colab-df-convert {\n",
              "      background-color: #3B4455;\n",
              "      fill: #D2E3FC;\n",
              "    }\n",
              "\n",
              "    [theme=dark] .colab-df-convert:hover {\n",
              "      background-color: #434B5C;\n",
              "      box-shadow: 0px 1px 3px 1px rgba(0, 0, 0, 0.15);\n",
              "      filter: drop-shadow(0px 1px 2px rgba(0, 0, 0, 0.3));\n",
              "      fill: #FFFFFF;\n",
              "    }\n",
              "  </style>\n",
              "\n",
              "      <script>\n",
              "        const buttonEl =\n",
              "          document.querySelector('#df-3a53c823-06a3-4526-8b0d-46a07522232d button.colab-df-convert');\n",
              "        buttonEl.style.display =\n",
              "          google.colab.kernel.accessAllowed ? 'block' : 'none';\n",
              "\n",
              "        async function convertToInteractive(key) {\n",
              "          const element = document.querySelector('#df-3a53c823-06a3-4526-8b0d-46a07522232d');\n",
              "          const dataTable =\n",
              "            await google.colab.kernel.invokeFunction('convertToInteractive',\n",
              "                                                     [key], {});\n",
              "          if (!dataTable) return;\n",
              "\n",
              "          const docLinkHtml = 'Like what you see? Visit the ' +\n",
              "            '<a target=\"_blank\" href=https://colab.research.google.com/notebooks/data_table.ipynb>data table notebook</a>'\n",
              "            + ' to learn more about interactive tables.';\n",
              "          element.innerHTML = '';\n",
              "          dataTable['output_type'] = 'display_data';\n",
              "          await google.colab.output.renderOutput(dataTable, element);\n",
              "          const docLink = document.createElement('div');\n",
              "          docLink.innerHTML = docLinkHtml;\n",
              "          element.appendChild(docLink);\n",
              "        }\n",
              "      </script>\n",
              "    </div>\n",
              "  </div>\n",
              "  "
            ]
          },
          "metadata": {},
          "execution_count": 48
        }
      ]
    },
    {
      "cell_type": "code",
      "source": [
        "#vizualizando distribuição dos atributos nominais de ilpd\n",
        "nominal_ilpd = ['V2', 'Class']\n",
        "\n",
        "for atributo in nominal_ilpd:\n",
        "  data = ilpd[atributo].unique()\n",
        "  plt.figure(figsize=(4,4))\n",
        "  ilpd[atributo].value_counts().plot.pie(labels = data, autopct='%1.0f%%')\n",
        "  #plt.legend(loc=\"best\")\n",
        "  plt.show() "
      ],
      "metadata": {
        "id": "nlEnSUQR2l0R",
        "colab": {
          "base_uri": "https://localhost:8080/"
        },
        "outputId": "6fc93e45-3c9a-47ab-dbc8-4cf77130b94d"
      },
      "execution_count": null,
      "outputs": [
        {
          "output_type": "display_data",
          "data": {
            "text/plain": [
              "<Figure size 288x288 with 1 Axes>"
            ],
            "image/png": "[encoded data removed]"
          },
          "metadata": {}
        },
        {
          "output_type": "display_data",
          "data": {
            "text/plain": [
              "<Figure size 288x288 with 1 Axes>"
            ],
            "image/png": "[encoded data removed]"
          },
          "metadata": {}
        }
      ]
    },
    {
      "cell_type": "code",
      "source": [
        "#vizualizando caracterísicas dos atributos numéricos de ilpd\n",
        "numericos_ilpd = ['V1', 'V3', 'V4', 'V5', 'V6', 'V7', 'V8', 'V9', 'V10']\n",
        "\n",
        "for atributo in numericos_ilpd:\n",
        "  print(\"ATRIBUTO: \" + atributo)\n",
        "  print(\"MIN: \" + str(ilpd[atributo].min()))\n",
        "  print(\"MAX: \" + str(ilpd[atributo].max()))\n",
        "  print(\"MÉDIA: \" + str(ilpd[atributo].mean()))\n",
        "  print(\"DESV PADRÃO: \"+ str(ilpd[atributo].std()))\n",
        "  plt.boxplot(ilpd[atributo])\n",
        "  plt.title(atributo)\n",
        "  plt.show()"
      ],
      "metadata": {
        "colab": {
          "base_uri": "https://localhost:8080/"
        },
        "id": "uDr-vo8HPEsE",
        "outputId": "2cb8d21b-958b-4eb7-84d4-29fb1f04a7d3"
      },
      "execution_count": null,
      "outputs": [
        {
          "output_type": "stream",
          "name": "stdout",
          "text": [
            "ATRIBUTO: V1\n",
            "MIN: 4\n",
            "MAX: 90\n",
            "MÉDIA: 44.74614065180103\n",
            "DESV PADRÃO: 16.18983330469438\n"
          ]
        },
        {
          "output_type": "display_data",
          "data": {
            "text/plain": [
              "<Figure size 432x288 with 1 Axes>"
            ],
            "image/png": "[encoded data removed]"
          },
          "metadata": {
            "needs_background": "light"
          }
        },
        {
          "output_type": "stream",
          "name": "stdout",
          "text": [
            "ATRIBUTO: V3\n",
            "MIN: 0.4\n",
            "MAX: 75.0\n",
            "MÉDIA: 3.298799313893654\n",
            "DESV PADRÃO: 6.2095217261801485\n"
          ]
        },
        {
          "output_type": "display_data",
          "data": {
            "text/plain": [
              "<Figure size 432x288 with 1 Axes>"
            ],
            "image/png": "[encoded data removed]"
          },
          "metadata": {
            "needs_background": "light"
          }
        },
        {
          "output_type": "stream",
          "name": "stdout",
          "text": [
            "ATRIBUTO: V4\n",
            "MIN: 0.1\n",
            "MAX: 19.7\n",
            "MÉDIA: 1.4861063464837108\n",
            "DESV PADRÃO: 2.808497617658962\n"
          ]
        },
        {
          "output_type": "display_data",
          "data": {
            "text/plain": [
              "<Figure size 432x288 with 1 Axes>"
            ],
            "image/png": "[encoded data removed]"
          },
          "metadata": {
            "needs_background": "light"
          }
        },
        {
          "output_type": "stream",
          "name": "stdout",
          "text": [
            "ATRIBUTO: V5\n",
            "MIN: 63\n",
            "MAX: 2110\n",
            "MÉDIA: 290.57632933104634\n",
            "DESV PADRÃO: 242.93798917934396\n"
          ]
        },
        {
          "output_type": "display_data",
          "data": {
            "text/plain": [
              "<Figure size 432x288 with 1 Axes>"
            ],
            "image/png": "[encoded data removed]"
          },
          "metadata": {
            "needs_background": "light"
          }
        },
        {
          "output_type": "stream",
          "name": "stdout",
          "text": [
            "ATRIBUTO: V6\n",
            "MIN: 10\n",
            "MAX: 2000\n",
            "MÉDIA: 80.71355060034305\n",
            "DESV PADRÃO: 182.62035603420242\n"
          ]
        },
        {
          "output_type": "display_data",
          "data": {
            "text/plain": [
              "<Figure size 432x288 with 1 Axes>"
            ],
            "image/png": "[encoded data removed]"
          },
          "metadata": {
            "needs_background": "light"
          }
        },
        {
          "output_type": "stream",
          "name": "stdout",
          "text": [
            "ATRIBUTO: V7\n",
            "MIN: 10\n",
            "MAX: 4929\n",
            "MÉDIA: 109.91080617495712\n",
            "DESV PADRÃO: 288.91852905173397\n"
          ]
        },
        {
          "output_type": "display_data",
          "data": {
            "text/plain": [
              "<Figure size 432x288 with 1 Axes>"
            ],
            "image/png": "[encoded data removed]"
          },
          "metadata": {
            "needs_background": "light"
          }
        },
        {
          "output_type": "stream",
          "name": "stdout",
          "text": [
            "ATRIBUTO: V8\n",
            "MIN: 2.7\n",
            "MAX: 9.6\n",
            "MÉDIA: 6.483190394511148\n",
            "DESV PADRÃO: 1.085451484023467\n"
          ]
        },
        {
          "output_type": "display_data",
          "data": {
            "text/plain": [
              "<Figure size 432x288 with 1 Axes>"
            ],
            "image/png": "[encoded data removed]"
          },
          "metadata": {
            "needs_background": "light"
          }
        },
        {
          "output_type": "stream",
          "name": "stdout",
          "text": [
            "ATRIBUTO: V9\n",
            "MIN: 0.9\n",
            "MAX: 5.5\n",
            "MÉDIA: 3.1418524871355076\n",
            "DESV PADRÃO: 0.7955188059640264\n"
          ]
        },
        {
          "output_type": "display_data",
          "data": {
            "text/plain": [
              "<Figure size 432x288 with 1 Axes>"
            ],
            "image/png": "[encoded data removed]"
          },
          "metadata": {
            "needs_background": "light"
          }
        },
        {
          "output_type": "stream",
          "name": "stdout",
          "text": [
            "ATRIBUTO: V10\n",
            "MIN: 0.3\n",
            "MAX: 2.8\n",
            "MÉDIA: 0.9470639039451116\n",
            "DESV PADRÃO: 0.31849195945867437\n"
          ]
        },
        {
          "output_type": "display_data",
          "data": {
            "text/plain": [
              "<Figure size 432x288 with 1 Axes>"
            ],
            "image/png": "[encoded data removed]"
          },
          "metadata": {
            "needs_background": "light"
          }
        }
      ]
    },
    {
      "cell_type": "markdown",
      "source": [
        "### **Dados de conclusão das fases escolares em escolas irlandesas**"
      ],
      "metadata": {
        "id": "s9Wa_yBP078Z"
      }
    },
    {
      "cell_type": "markdown",
      "source": [
        "1. Sexo: masculino; feminino.\n",
        "2. DVRT (Drumcondra Verbal Reasoning Test Score).\n",
        "3. Nível educacional alcançado.\n",
        "4. Score de prestígio para a ocupação do pai (calculado por Raftery e Hout, 1985).\n",
        "5. Tipo de escola: secundário; vocacional; primário.\n",
        "6. Certificado de Saída."
      ],
      "metadata": {
        "id": "Y4_OJKpS1Mul"
      }
    },
    {
      "cell_type": "code",
      "source": [
        "irish.head(10)"
      ],
      "metadata": {
        "colab": {
          "base_uri": "https://localhost:8080/"
        },
        "id": "JtD7y4GM1pdT",
        "outputId": "31b0c2ab-9261-4caf-e75d-c361f8f83cc4"
      },
      "execution_count": null,
      "outputs": [
        {
          "output_type": "execute_result",
          "data": {
            "text/plain": [
              "      Sex  DVRT                               Educational_level  \\\n",
              "0    male   121                            3rd_level_incomplete   \n",
              "1    male   132                              3rd_level_complete   \n",
              "2  female   122                              3rd_level_complete   \n",
              "3    male   102        Junior_cycle_incomplete-secondary_school   \n",
              "4  female   104   Senior_cycle_terminal_leaver-secondary_school   \n",
              "5  female    94   Junior_cycle_terminal_leaver-secondary_school   \n",
              "6    male   102  Junior_cycle_terminal_leaver-vocational_school   \n",
              "7    male    91   Junior_cycle_terminal_leaver-secondary_school   \n",
              "8    male    92  Junior_cycle_terminal_leaver-vocational_school   \n",
              "9  female    92       Junior_cycle_incomplete-vocational_school   \n",
              "\n",
              "   Prestige_score Type_school Leaving_Certificate  \n",
              "0            37.0   secondary               taken  \n",
              "1            37.0   secondary               taken  \n",
              "2            38.0   secondary               taken  \n",
              "3            18.0   secondary           not_taken  \n",
              "4            18.0   secondary               taken  \n",
              "5            37.0   secondary           not_taken  \n",
              "6            43.0  vocational           not_taken  \n",
              "7            40.0   secondary           not_taken  \n",
              "8            33.0  vocational           not_taken  \n",
              "9            18.0  vocational           not_taken  "
            ],
            "text/html": [
              "\n",
              "  <div id=\"df-34efd560-2a45-40ab-be1d-215f8bdfb2d3\">\n",
              "    <div class=\"colab-df-container\">\n",
              "      <div>\n",
              "<style scoped>\n",
              "    .dataframe tbody tr th:only-of-type {\n",
              "        vertical-align: middle;\n",
              "    }\n",
              "\n",
              "    .dataframe tbody tr th {\n",
              "        vertical-align: top;\n",
              "    }\n",
              "\n",
              "    .dataframe thead th {\n",
              "        text-align: right;\n",
              "    }\n",
              "</style>\n",
              "<table border=\"1\" class=\"dataframe\">\n",
              "  <thead>\n",
              "    <tr style=\"text-align: right;\">\n",
              "      <th></th>\n",
              "      <th>Sex</th>\n",
              "      <th>DVRT</th>\n",
              "      <th>Educational_level</th>\n",
              "      <th>Prestige_score</th>\n",
              "      <th>Type_school</th>\n",
              "      <th>Leaving_Certificate</th>\n",
              "    </tr>\n",
              "  </thead>\n",
              "  <tbody>\n",
              "    <tr>\n",
              "      <th>0</th>\n",
              "      <td>male</td>\n",
              "      <td>121</td>\n",
              "      <td>3rd_level_incomplete</td>\n",
              "      <td>37.0</td>\n",
              "      <td>secondary</td>\n",
              "      <td>taken</td>\n",
              "    </tr>\n",
              "    <tr>\n",
              "      <th>1</th>\n",
              "      <td>male</td>\n",
              "      <td>132</td>\n",
              "      <td>3rd_level_complete</td>\n",
              "      <td>37.0</td>\n",
              "      <td>secondary</td>\n",
              "      <td>taken</td>\n",
              "    </tr>\n",
              "    <tr>\n",
              "      <th>2</th>\n",
              "      <td>female</td>\n",
              "      <td>122</td>\n",
              "      <td>3rd_level_complete</td>\n",
              "      <td>38.0</td>\n",
              "      <td>secondary</td>\n",
              "      <td>taken</td>\n",
              "    </tr>\n",
              "    <tr>\n",
              "      <th>3</th>\n",
              "      <td>male</td>\n",
              "      <td>102</td>\n",
              "      <td>Junior_cycle_incomplete-secondary_school</td>\n",
              "      <td>18.0</td>\n",
              "      <td>secondary</td>\n",
              "      <td>not_taken</td>\n",
              "    </tr>\n",
              "    <tr>\n",
              "      <th>4</th>\n",
              "      <td>female</td>\n",
              "      <td>104</td>\n",
              "      <td>Senior_cycle_terminal_leaver-secondary_school</td>\n",
              "      <td>18.0</td>\n",
              "      <td>secondary</td>\n",
              "      <td>taken</td>\n",
              "    </tr>\n",
              "    <tr>\n",
              "      <th>5</th>\n",
              "      <td>female</td>\n",
              "      <td>94</td>\n",
              "      <td>Junior_cycle_terminal_leaver-secondary_school</td>\n",
              "      <td>37.0</td>\n",
              "      <td>secondary</td>\n",
              "      <td>not_taken</td>\n",
              "    </tr>\n",
              "    <tr>\n",
              "      <th>6</th>\n",
              "      <td>male</td>\n",
              "      <td>102</td>\n",
              "      <td>Junior_cycle_terminal_leaver-vocational_school</td>\n",
              "      <td>43.0</td>\n",
              "      <td>vocational</td>\n",
              "      <td>not_taken</td>\n",
              "    </tr>\n",
              "    <tr>\n",
              "      <th>7</th>\n",
              "      <td>male</td>\n",
              "      <td>91</td>\n",
              "      <td>Junior_cycle_terminal_leaver-secondary_school</td>\n",
              "      <td>40.0</td>\n",
              "      <td>secondary</td>\n",
              "      <td>not_taken</td>\n",
              "    </tr>\n",
              "    <tr>\n",
              "      <th>8</th>\n",
              "      <td>male</td>\n",
              "      <td>92</td>\n",
              "      <td>Junior_cycle_terminal_leaver-vocational_school</td>\n",
              "      <td>33.0</td>\n",
              "      <td>vocational</td>\n",
              "      <td>not_taken</td>\n",
              "    </tr>\n",
              "    <tr>\n",
              "      <th>9</th>\n",
              "      <td>female</td>\n",
              "      <td>92</td>\n",
              "      <td>Junior_cycle_incomplete-vocational_school</td>\n",
              "      <td>18.0</td>\n",
              "      <td>vocational</td>\n",
              "      <td>not_taken</td>\n",
              "    </tr>\n",
              "  </tbody>\n",
              "</table>\n",
              "</div>\n",
              "      <button class=\"colab-df-convert\" onclick=\"convertToInteractive('df-34efd560-2a45-40ab-be1d-215f8bdfb2d3')\"\n",
              "              title=\"Convert this dataframe to an interactive table.\"\n",
              "              style=\"display:none;\">\n",
              "        \n",
              "  <svg xmlns=\"http://www.w3.org/2000/svg\" height=\"24px\"viewBox=\"0 0 24 24\"\n",
              "       width=\"24px\">\n",
              "    <path d=\"M0 0h24v24H0V0z\" fill=\"none\"/>\n",
              "    <path d=\"M18.56 5.44l.94 2.06.94-2.06 2.06-.94-2.06-.94-.94-2.06-.94 2.06-2.06.94zm-11 1L8.5 8.5l.94-2.06 2.06-.94-2.06-.94L8.5 2.5l-.94 2.06-2.06.94zm10 10l.94 2.06.94-2.06 2.06-.94-2.06-.94-.94-2.06-.94 2.06-2.06.94z\"/><path d=\"M17.41 7.96l-1.37-1.37c-.4-.4-.92-.59-1.43-.59-.52 0-1.04.2-1.43.59L10.3 9.45l-7.72 7.72c-.78.78-.78 2.05 0 2.83L4 21.41c.39.39.9.59 1.41.59.51 0 1.02-.2 1.41-.59l7.78-7.78 2.81-2.81c.8-.78.8-2.07 0-2.86zM5.41 20L4 18.59l7.72-7.72 1.47 1.35L5.41 20z\"/>\n",
              "  </svg>\n",
              "      </button>\n",
              "      \n",
              "  <style>\n",
              "    .colab-df-container {\n",
              "      display:flex;\n",
              "      flex-wrap:wrap;\n",
              "      gap: 12px;\n",
              "    }\n",
              "\n",
              "    .colab-df-convert {\n",
              "      background-color: #E8F0FE;\n",
              "      border: none;\n",
              "      border-radius: 50%;\n",
              "      cursor: pointer;\n",
              "      display: none;\n",
              "      fill: #1967D2;\n",
              "      height: 32px;\n",
              "      padding: 0 0 0 0;\n",
              "      width: 32px;\n",
              "    }\n",
              "\n",
              "    .colab-df-convert:hover {\n",
              "      background-color: #E2EBFA;\n",
              "      box-shadow: 0px 1px 2px rgba(60, 64, 67, 0.3), 0px 1px 3px 1px rgba(60, 64, 67, 0.15);\n",
              "      fill: #174EA6;\n",
              "    }\n",
              "\n",
              "    [theme=dark] .colab-df-convert {\n",
              "      background-color: #3B4455;\n",
              "      fill: #D2E3FC;\n",
              "    }\n",
              "\n",
              "    [theme=dark] .colab-df-convert:hover {\n",
              "      background-color: #434B5C;\n",
              "      box-shadow: 0px 1px 3px 1px rgba(0, 0, 0, 0.15);\n",
              "      filter: drop-shadow(0px 1px 2px rgba(0, 0, 0, 0.3));\n",
              "      fill: #FFFFFF;\n",
              "    }\n",
              "  </style>\n",
              "\n",
              "      <script>\n",
              "        const buttonEl =\n",
              "          document.querySelector('#df-34efd560-2a45-40ab-be1d-215f8bdfb2d3 button.colab-df-convert');\n",
              "        buttonEl.style.display =\n",
              "          google.colab.kernel.accessAllowed ? 'block' : 'none';\n",
              "\n",
              "        async function convertToInteractive(key) {\n",
              "          const element = document.querySelector('#df-34efd560-2a45-40ab-be1d-215f8bdfb2d3');\n",
              "          const dataTable =\n",
              "            await google.colab.kernel.invokeFunction('convertToInteractive',\n",
              "                                                     [key], {});\n",
              "          if (!dataTable) return;\n",
              "\n",
              "          const docLinkHtml = 'Like what you see? Visit the ' +\n",
              "            '<a target=\"_blank\" href=https://colab.research.google.com/notebooks/data_table.ipynb>data table notebook</a>'\n",
              "            + ' to learn more about interactive tables.';\n",
              "          element.innerHTML = '';\n",
              "          dataTable['output_type'] = 'display_data';\n",
              "          await google.colab.output.renderOutput(dataTable, element);\n",
              "          const docLink = document.createElement('div');\n",
              "          docLink.innerHTML = docLinkHtml;\n",
              "          element.appendChild(docLink);\n",
              "        }\n",
              "      </script>\n",
              "    </div>\n",
              "  </div>\n",
              "  "
            ]
          },
          "metadata": {},
          "execution_count": 51
        }
      ]
    },
    {
      "cell_type": "code",
      "source": [
        "#vizualizando distribuição dos atributos nominais de irish\n",
        "nominal_irish = ['Sex', 'Educational_level', 'Type_school', 'Leaving_Certificate']\n",
        "\n",
        "for atributo in nominal_irish:\n",
        "  data = irish[atributo].unique()\n",
        "  plt.figure(figsize=(4,4))\n",
        "  irish[atributo].value_counts().plot.pie(labels = data, autopct='%1.0f%%')\n",
        "  #plt.legend(loc=\"best\")\n",
        "  plt.show() "
      ],
      "metadata": {
        "colab": {
          "base_uri": "https://localhost:8080/"
        },
        "id": "uJRB1KfHPa2H",
        "outputId": "c7ba1194-f3a1-4f85-cf9e-633c3c2d8e13"
      },
      "execution_count": null,
      "outputs": [
        {
          "output_type": "display_data",
          "data": {
            "text/plain": [
              "<Figure size 288x288 with 1 Axes>"
            ],
            "image/png": "[encoded data removed]"
          },
          "metadata": {}
        },
        {
          "output_type": "display_data",
          "data": {
            "text/plain": [
              "<Figure size 288x288 with 1 Axes>"
            ],
            "image/png": "[encoded data removed]"
          },
          "metadata": {}
        },
        {
          "output_type": "display_data",
          "data": {
            "text/plain": [
              "<Figure size 288x288 with 1 Axes>"
            ],
            "image/png": "[encoded data removed]"
          },
          "metadata": {}
        },
        {
          "output_type": "display_data",
          "data": {
            "text/plain": [
              "<Figure size 288x288 with 1 Axes>"
            ],
            "image/png": "[encoded data removed]"
          },
          "metadata": {}
        }
      ]
    },
    {
      "cell_type": "code",
      "source": [
        "#vizualizando caracterísicas dos atributos numéricos de irish\n",
        "numericos_irish = ['DVRT','Prestige_score'] \n",
        "\n",
        "for atributo in numericos_irish:\n",
        "  print(\"ATRIBUTO: \" + atributo)\n",
        "  print(\"MIN: \" + str(irish[atributo].min()))\n",
        "  print(\"MAX: \" + str(irish[atributo].max()))\n",
        "  print(\"MÉDIA: \" + str(irish[atributo].mean()))\n",
        "  print(\"DESV PADRÃO: \"+ str(irish[atributo].std()))\n",
        "  plt.boxplot(irish[atributo])\n",
        "  plt.title(atributo)\n",
        "  plt.show()"
      ],
      "metadata": {
        "colab": {
          "base_uri": "https://localhost:8080/"
        },
        "id": "Clr2qQTHQtYT",
        "outputId": "36b65b82-9891-455c-86f2-0a92d4ce29c6"
      },
      "execution_count": null,
      "outputs": [
        {
          "output_type": "stream",
          "name": "stdout",
          "text": [
            "ATRIBUTO: DVRT\n",
            "MIN: 65\n",
            "MAX: 140\n",
            "MÉDIA: 99.98717948717949\n",
            "DESV PADRÃO: 15.296213235667619\n"
          ]
        },
        {
          "output_type": "display_data",
          "data": {
            "text/plain": [
              "<Figure size 432x288 with 1 Axes>"
            ],
            "image/png": "[encoded data removed]"
          },
          "metadata": {
            "needs_background": "light"
          }
        },
        {
          "output_type": "stream",
          "name": "stdout",
          "text": [
            "ATRIBUTO: Prestige_score\n",
            "MIN: 18.0\n",
            "MAX: 75.0\n",
            "MÉDIA: 38.83974358974359\n",
            "DESV PADRÃO: 15.254372825460184\n"
          ]
        },
        {
          "output_type": "display_data",
          "data": {
            "text/plain": [
              "<Figure size 432x288 with 1 Axes>"
            ],
            "image/png": "[encoded data removed]"
          },
          "metadata": {
            "needs_background": "light"
          }
        }
      ]
    },
    {
      "cell_type": "markdown",
      "source": [
        "# **Separação em grupos de treino e teste**"
      ],
      "metadata": {
        "id": "xJKgvGP9abO6"
      }
    },
    {
      "cell_type": "code",
      "source": [
        "normalizador = MinMaxScaler(feature_range=(0,1))\n",
        "\n",
        "\"\"\"\n",
        "Cada elemento dos arrays abaixo será outro array com os conjuntos de treino e teste de cada dataset\n",
        "\"\"\"\n",
        "x_train = []\n",
        "x_test = []\n",
        "y_train = []\n",
        "y_test = []\n",
        "\n",
        "\"\"\"\n",
        "Os dois arrays abaixo serão usados para armazenar os dados que continuaram rotulados,\n",
        "e que serão passados para uma SVM, com o intuito de comparar a acurácia deste modelo\n",
        "com as SVMs que vão utilizar mais dados obtidos com a imputação pelos algoritmos\n",
        "\"\"\"\n",
        "x_train_rotulado = [] \n",
        "y_train_rotulado = []\n",
        "\n",
        "\"\"\"\n",
        "O for a seguir percorre a lista de keys do dicionário de datasets, de forma que todas\n",
        "as operações realizadas dentro do for são realizadas para todos os datasets\n",
        "\"\"\"\n",
        "\n",
        "for n,i in enumerate(list(datasets.keys())): \n",
        "  for column in datasets[i].columns:\n",
        "    if(type(datasets[i][column][0]) == str): #se a coluna for composta por elementos do tipo string, aplica o LabelEncoder\n",
        "      le = LabelEncoder()\n",
        "      datasets[i][column] =  le.fit_transform(datasets[i][column]) #aplica o Labelencoder\n",
        "  datasets[i] = normalizador.fit_transform(datasets[i]) #normaliza os dados em um intevalo de 0 a 1\n",
        "\n",
        "  train_size = int(datasets[i].shape[0]*0.8) #define que o conjunto de treino será  80% do dataset\n",
        "  x_train.append(datasets[i][0:train_size,0:(datasets[i].shape[1]-1)])  #coleta os atributos do conjunto de treino\n",
        "  y_train.append(datasets[i][0:train_size,(datasets[i].shape[1]-1):]) #coleta os rótulos do conjunto de treino\n",
        "\n",
        "  x_test.append(datasets[i][train_size:,0:(datasets[i].shape[1]-1)]) #coleta os atributos do conjunto de teste\n",
        "  y_test.append(datasets[i][train_size:,(datasets[i].shape[1]-1):]) #coleta as classes do conjunto de teste\n",
        "\n",
        "  #reshape para aplicar funções\n",
        "  y_train[n] = (np.reshape(y_train[n],(y_train[n].shape[0]))) \n",
        "  y_test[n] = (np.reshape(y_test[n],(y_test[n].shape[0])))\n",
        "\n",
        "  \"\"\"\n",
        "  Abaixo são escolhidos aleatoriamente 80% dos rótulos do conjunto de treino para serem retirados e subsituidos por -1,\n",
        "  simulando uma situação de falta de dados rotulados.\n",
        "  Tal operação faz com que 64% das instâncias do dataset não possuam rótulo\n",
        "  \"\"\"\n",
        "  y_train[n][np.random.choice(y_train[n].shape[0], size=int(y_train[n].shape[0]*0.8), replace=False)] = -1 #retira label de 80% de y_train\n",
        "\n",
        "  #separa somente os dados que foram rotulados para que sejam usados na SVM para o aprendizado supervisionado \n",
        "  x_train_rotulado.append(x_train[n][y_train[n] != -1])\n",
        "  y_train_rotulado.append(y_train[n][y_train[n] != -1])\n",
        "\n"
      ],
      "metadata": {
        "id": "sN79FHoy38RN"
      },
      "execution_count": null,
      "outputs": []
    },
    {
      "cell_type": "markdown",
      "source": [
        "# **Teste só com dados rotulados**"
      ],
      "metadata": {
        "id": "jQDgwvXVtNX4"
      }
    },
    {
      "cell_type": "code",
      "source": [
        "accuracy_supervised ={} #dicionario para guardar as acurácias da SVM supervisionada em cada dataset \n",
        "for i in range(0,len(x_train_rotulado)): \n",
        "  \"\"\"\n",
        "  Nessas SVMs, são utilizados SOMENTE OS DADOS ROTULADOS de cada dataset, ou seja,\n",
        "  36% dos conjuntos de dados totais, para que seja possível verificar se a aplicação\n",
        "  dos algorítimos de aprendizado semi-superviosionado valeu a pena ou não\n",
        "  \"\"\"\n",
        "  model = SVC()\n",
        "  model.fit(x_train_rotulado[i],y_train_rotulado[i])\n",
        "  pred = model.predict(x_test[i])\n",
        "\n",
        "  #acurácia de para cada dataset é colocada no dicionário com a key como o nome do dataset utilizado\n",
        "  accuracy_supervised[list(datasets.keys())[i]]= accuracy_score(y_test[i],pred) \n",
        "print(accuracy_supervised)"
      ],
      "metadata": {
        "colab": {
          "base_uri": "https://localhost:8080/"
        },
        "id": "aD2skPLltMni",
        "outputId": "b167a538-d0da-400a-db4c-ca7a99b7ec15"
      },
      "execution_count": null,
      "outputs": [
        {
          "output_type": "stream",
          "name": "stdout",
          "text": [
            "{'quant_bank': 0.94, 'ada_prior': 0.8028477546549836, 'biomed': 0.8461538461538461, 'ilpd': 0.717948717948718, 'irish': 0.8297872340425532}\n"
          ]
        }
      ]
    },
    {
      "cell_type": "markdown",
      "source": [
        "# **Algoritmos Semi-supervisionados**"
      ],
      "metadata": {
        "id": "tq7eLSSJjYzC"
      }
    },
    {
      "cell_type": "markdown",
      "source": [
        "## **Label Propagation**"
      ],
      "metadata": {
        "id": "MIMVGVC7L-Gn"
      }
    },
    {
      "cell_type": "code",
      "source": [
        "accuracy_lp = {} #dicionário que irá conter a acurácia das SVMs que usaram dados imputados pelo Label propagation\n",
        "for n,i in enumerate(list(datasets.keys())):\n",
        "  lp = LabelPropagation(max_iter=5000)\n",
        "  lp.fit(x_train[n], y_train[n]) #treinamento do algoritmo semi-supervisionado com os dados não rotulados\n",
        "\n",
        "  pred1 = lp.predict(x_test[n]) \n",
        "\n",
        "  print(i)\n",
        "  #Verificação da acurácia da IMPUTAÇÃO realizado pelo Label Propagtion\n",
        "  #ATENÇÃO! Essa acurácia não é a da SVM com os dados imputados, e sim da predição realizada pelo Label Propagation no conjunto de teste\n",
        "  print(\" Acurácia das imputações: \" + str(accuracy_score(y_test[n], pred1))) \n",
        "\n",
        "  model = SVC()\n",
        "  #Os labels faltantes de y_train são imputados pelo algoritmo, sendo todos os valores armazenados em y_tran_semi\n",
        "  y_train_semi = lp.predict(x_train[n])\n",
        "  \"\"\"\n",
        "    O if abaixo verifica se todos os dados foram imputados com um rótulo só, se sim \n",
        "    para acurácia no dataset é atribuido o valor None\n",
        "  \"\"\"\n",
        "  if(len(np.unique(y_train_semi))==1): \n",
        "    print(\" O Algoritmo semisupervisionado definiu todas as classes para um único valor\")\n",
        "    accuracy_lp[list(datasets.keys())[n]] = None\n",
        "  else:\n",
        "    model.fit(x_train[n],y_train_semi) #treina a SVM com os os dados obtidos com o algoritmo semisupervisionado\n",
        "    pred = model.predict(x_test[n])\n",
        "    \n",
        "    ac = accuracy_score(y_test[n],pred) #calcula a acurácia da previsão da SVM treinada com os dados imputados pelo algoríimo\n",
        "\n",
        "    accuracy_lp[list(datasets.keys())[n]] = ac #armazena a acurácia para seu respectivo dataset\n",
        "print(\"SVM: \")\n",
        "print(accuracy_lp) #mostra as acurácias obtidas com a SVM para todos os datasets"
      ],
      "metadata": {
        "colab": {
          "base_uri": "https://localhost:8080/"
        },
        "id": "wLXbpANaVdHN",
        "outputId": "5022352c-a05a-4c48-9b49-ed06ebb9e379"
      },
      "execution_count": null,
      "outputs": [
        {
          "output_type": "stream",
          "name": "stdout",
          "text": [
            "quant_bank\n",
            " Acurácia das imputações: 0.9\n",
            "ada_prior\n",
            " Acurácia das imputações: 0.7962760131434831\n",
            "biomed\n",
            " Acurácia das imputações: 0.7435897435897436\n",
            "ilpd\n",
            " Acurácia das imputações: 0.7094017094017094\n",
            "irish\n",
            " Acurácia das imputações: 0.8617021276595744\n",
            "SVM: \n",
            "{'quant_bank': 0.88, 'ada_prior': 0.778751369112815, 'biomed': 0.717948717948718, 'ilpd': 0.717948717948718, 'irish': 0.8617021276595744}\n"
          ]
        }
      ]
    },
    {
      "cell_type": "markdown",
      "source": [
        "## **Label Spreading**"
      ],
      "metadata": {
        "id": "E-z_-oy7UGr4"
      }
    },
    {
      "cell_type": "code",
      "source": [
        "# This model is similar to the basic Label Propagation algorithm, but uses affinity matrix based \n",
        "# on the normalized graph Laplacian and soft clamping across the labels.\n",
        "\n",
        "accuracy_ls = {} #dicionário que irá conter a acurácia das SVMs que usaram dados imputados pelo Label Spreading\n",
        "for n,i in enumerate(list(datasets.keys())):\n",
        "  ls = LabelSpreading(max_iter = 50) #treinamento do algorítimo semi-supervisionado com os dados não rotulados\n",
        "  ls.fit(x_train[n], y_train[n])\n",
        "\n",
        "  pred2 = ls.predict(x_test[n])\n",
        "  print(i)\n",
        "  #Verificação da acurácia da IMPUTAÇÃO realizado pelo Label Spreading\n",
        "  #ATENÇÃO! Essa acurácia não é a da SVM com os dados imputados, e sim da predição realizada pelo Label Spreading no conjunto de teste\n",
        "  print(\" Acurácia das imputações: \" + str(accuracy_score(y_test[n], pred2)))\n",
        "\n",
        "  model = SVC()\n",
        "\n",
        "  #Os labels faltantes de y_train são imputados pelo algorítimo, sendo todos os valores armazenados em y_tran_semi\n",
        "  y_train_semi = ls.predict(x_train[n])\n",
        "  \"\"\"\n",
        "    O if abaixo verifica se todos os dados foram imputados com um rótulo só, se sim \n",
        "    para acurácia no dataset é atribuido o valor None\n",
        "  \"\"\"\n",
        "  if(len(np.unique(y_train_semi))==1):\n",
        "    print(\"O Algoritmo semisupervisionado definiu todas as classes para um único valor\")\n",
        "    accuracy_ls[list(datasets.keys())[n]] = None\n",
        "  else:\n",
        "    model.fit(x_train[n],y_train_semi) #treina a SVM com os os dados obtidos com o algorímo semisupervisionado\n",
        "    pred = model.predict(x_test[n])\n",
        "    ac = accuracy_score(y_test[n],pred)#calcula a acurácia da previsão da SVM treinada com os dados imputados pelo algoríimo\n",
        "    accuracy_ls[list(datasets.keys())[n]] = ac #armazena a acurácia para seu respectivo dataset\n",
        "print(\"SVM: \")\n",
        "print(accuracy_ls) #mostra as acurácias obtidas com a SVM para todos os datasets"
      ],
      "metadata": {
        "colab": {
          "base_uri": "https://localhost:8080/"
        },
        "id": "MEUURpiGUGIc",
        "outputId": "b01f5f07-7d92-4803-e93d-6174061fc3bf"
      },
      "execution_count": null,
      "outputs": [
        {
          "output_type": "stream",
          "name": "stdout",
          "text": [
            "quant_bank\n",
            " Acurácia das imputações: 1.0\n",
            "ada_prior\n",
            " Acurácia das imputações: 0.8061336254107339\n",
            "biomed\n",
            " Acurácia das imputações: 0.8717948717948718\n",
            "ilpd\n",
            " Acurácia das imputações: 0.6581196581196581\n",
            "irish\n",
            " Acurácia das imputações: 0.9787234042553191\n",
            "SVM: \n",
            "{'quant_bank': 0.98, 'ada_prior': 0.8105147864184009, 'biomed': 0.8461538461538461, 'ilpd': 0.6581196581196581, 'irish': 1.0}\n"
          ]
        }
      ]
    },
    {
      "cell_type": "markdown",
      "source": [
        "## **Self Training Classifier**"
      ],
      "metadata": {
        "id": "DabY5zAnX-p9"
      }
    },
    {
      "cell_type": "code",
      "source": [
        "accuracy_st = {} #dicionário que irá conter a acurácia das SVMs que usaram dados imputados pelo Self Training\n",
        "for n,i in enumerate(list(datasets.keys())):\n",
        "  svc = SVC(probability=True, gamma=\"auto\") #O classificador base a ser usado pelo self-training é uma SVM\n",
        "  stc = SelfTrainingClassifier(svc,threshold=0.6)\n",
        "  stc.fit(x_train[n], y_train[n]) #treinamento do algoritmo semi-supervisionado com os dados não rotulados\n",
        "  \n",
        "  pred3 = stc.predict(x_test[n])\n",
        "\n",
        "  #accuracy_st.append(accuracy_score(y_test[n], pred4))\n",
        "  print(i)\n",
        "  #Verificação da acurácia da IMPUTAÇÃO realizado pelo Label Spreading\n",
        "  #ATENÇÃO! Essa acurácia não é a da SVM com os dados imputados, e sim da predição realizada pelo Label Spreading no conjunto de teste\n",
        "  print(\" Acurácia das imputações: \" + str(accuracy_score(y_test[n], pred3)))\n",
        "\n",
        "  model = SVC()\n",
        "\n",
        "  #Os labels faltantes de y_train são imputados pelo algoritmo, sendo todos os valores armazenados em y_tran_semi\n",
        "  y_train_semi = stc.predict(x_train[n])\n",
        "  \"\"\"\n",
        "  O if abaixo verifica se todos os dados foram imputados com um rótulo só, se sim \n",
        "  para acurácia no dataset é atribuido o valor None\n",
        "  \"\"\"\n",
        "  if(len(np.unique(y_train_semi))==1):\n",
        "    print(\"O Algoritmo semisupervisionado definiu todas as classes para um único valor\")\n",
        "    accuracy_st[list(datasets.keys())[n]] = None\n",
        "  else:\n",
        "    model.fit(x_train[n],y_train_semi) #treina a SVM com os os dados obtidos com o algorímo semisupervisionado\n",
        "    pred = model.predict(x_test[n]) \n",
        "    ac = accuracy_score(y_test[n],pred) #calcula a acurácia da previsão da SVM treinada com os dados imputados pelo algoríimo\n",
        "    accuracy_st[list(datasets.keys())[n]] = ac #armazena a acurácia para seu respectivo dataset\n",
        "print(\"SVM: \")\n",
        "print(accuracy_st) #mostra as acurácias obtidas com a SVM para todos os datasets"
      ],
      "metadata": {
        "colab": {
          "base_uri": "https://localhost:8080/"
        },
        "id": "j6NryDfdYE8g",
        "outputId": "a9ce224d-1644-43e6-f0b0-93141caaa963"
      },
      "execution_count": null,
      "outputs": [
        {
          "output_type": "stream",
          "name": "stdout",
          "text": [
            "quant_bank\n",
            " Acurácia das imputações: 0.7\n",
            "ada_prior\n",
            " Acurácia das imputações: 0.8017524644030668\n",
            "biomed\n",
            " Acurácia das imputações: 0.8461538461538461\n",
            "ilpd\n",
            " Acurácia das imputações: 0.717948717948718\n",
            "O Algoritmo semisupervisionado definiu todas as classes para um único valor\n",
            "irish\n",
            " Acurácia das imputações: 0.8191489361702128\n",
            "SVM: \n",
            "{'quant_bank': 0.7, 'ada_prior': 0.8039430449069004, 'biomed': 0.7692307692307693, 'ilpd': None, 'irish': 0.8085106382978723}\n"
          ]
        }
      ]
    },
    {
      "cell_type": "markdown",
      "source": [
        "## **Comparação**"
      ],
      "metadata": {
        "id": "oyEtvT1gZgTF"
      }
    },
    {
      "cell_type": "code",
      "source": [
        "\n",
        "\"\"\"\n",
        "Compara as métricas obtidas para cada dataset com cada um dos métodos.\n",
        "A inclusão das acurácias obtidas com somente 34% dos dados usados para\n",
        "o aprendizado supervisionado evidencia se vale a pena utilizar os algoritmos\n",
        "de aprendizado supervisionado em cada dataset, ou não\n",
        "\"\"\"\n",
        "for n in list(datasets.keys()):\n",
        "  print(\"*****\", n.upper(), \"*****\")\n",
        "\n",
        "  print(\"->Supervisionado: \", accuracy_supervised[n])\n",
        "  print()\n",
        "  print(\"-> Label Propagation:\", accuracy_lp[n])\n",
        "  print()\n",
        "  print(\"-> Label Spreading:\", accuracy_ls[n])\n",
        "  print()\n",
        "  print(\"-> Self Training:\", accuracy_st[n])\n",
        "  print()\n"
      ],
      "metadata": {
        "id": "E2elJzRlZiGX",
        "colab": {
          "base_uri": "https://localhost:8080/"
        },
        "outputId": "78da7810-a49b-4697-fe8f-518e047e0de0"
      },
      "execution_count": null,
      "outputs": [
        {
          "output_type": "stream",
          "name": "stdout",
          "text": [
            "***** QUANT_BANK *****\n",
            "->Supervisionado:  0.94\n",
            "\n",
            "-> Label Propagation: 0.88\n",
            "\n",
            "-> Label Spreading: 0.98\n",
            "\n",
            "-> Self Training: 0.7\n",
            "\n",
            "***** ADA_PRIOR *****\n",
            "->Supervisionado:  0.8028477546549836\n",
            "\n",
            "-> Label Propagation: 0.778751369112815\n",
            "\n",
            "-> Label Spreading: 0.8105147864184009\n",
            "\n",
            "-> Self Training: 0.8039430449069004\n",
            "\n",
            "***** BIOMED *****\n",
            "->Supervisionado:  0.8461538461538461\n",
            "\n",
            "-> Label Propagation: 0.717948717948718\n",
            "\n",
            "-> Label Spreading: 0.8461538461538461\n",
            "\n",
            "-> Self Training: 0.7692307692307693\n",
            "\n",
            "***** ILPD *****\n",
            "->Supervisionado:  0.717948717948718\n",
            "\n",
            "-> Label Propagation: 0.717948717948718\n",
            "\n",
            "-> Label Spreading: 0.6581196581196581\n",
            "\n",
            "-> Self Training: None\n",
            "\n",
            "***** IRISH *****\n",
            "->Supervisionado:  0.8297872340425532\n",
            "\n",
            "-> Label Propagation: 0.8617021276595744\n",
            "\n",
            "-> Label Spreading: 1.0\n",
            "\n",
            "-> Self Training: 0.8085106382978723\n",
            "\n"
          ]
        }
      ]
    },
    {
      "cell_type": "markdown",
      "source": [
        "# **Conclusão**\n",
        "Como pode ser visto nas acurácias obtidas em cada um dos datasets, o uso de Label Spreding se mostrou vantajoso em 3 (quant_bank, ada_prior e biomed) dos 5 datasets utilizados, demostrando que a investigação a respeito do uso de técnincas de aprendizado semi-supervisionado vale a pena para alguns conjuntos de dados.\n",
        "Também é observável que o algorítimo Self Training não performou muito bem para os datasets testados, tendo inclusive atribuído somente um rótulo para o dataset ilpd (que possui classes desbalanceadas), demostrando que o uso deste algoríitmo não é recomendado quando o dataset utilizado possui classes desbalanceadas.\n",
        "\n",
        "Obs: Devido a aleatoriedade da exclusão dos rótulos dos datasets, tais resultados podem variar um pouco, mas execuções anteriores demonstraram resultados similares aos exibidos acima."
      ],
      "metadata": {
        "id": "35Ad8ZxC_59S"
      }
    },
    {
      "cell_type": "markdown",
      "source": [
        ""
      ],
      "metadata": {
        "id": "upAeikbP-NRr"
      }
    }
  ]
}